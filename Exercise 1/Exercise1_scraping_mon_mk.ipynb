{
  "nbformat": 4,
  "nbformat_minor": 0,
  "metadata": {
    "colab": {
      "provenance": [],
      "machine_shape": "hm",
      "gpuType": "V100",
      "mount_file_id": "18hZI2i5pHqKvEHACab2BjGromPkkHtwh",
      "authorship_tag": "ABX9TyMsl/X5QMpBEg8tfPAfn2+J",
      "include_colab_link": true
    },
    "kernelspec": {
      "name": "python3",
      "display_name": "Python 3"
    },
    "language_info": {
      "name": "python"
    },
    "accelerator": "GPU"
  },
  "cells": [
    {
      "cell_type": "markdown",
      "metadata": {
        "id": "view-in-github",
        "colab_type": "text"
      },
      "source": [
        "<a href=\"https://colab.research.google.com/github/jovanadobreva/I2DS/blob/main/Exercise%201/Exercise1_scraping_mon_mk.ipynb\" target=\"_parent\"><img src=\"https://colab.research.google.com/assets/colab-badge.svg\" alt=\"Open In Colab\"/></a>"
      ]
    },
    {
      "cell_type": "code",
      "execution_count": null,
      "metadata": {
        "id": "Xu6jky81VPnS"
      },
      "outputs": [],
      "source": [
        "x =10\n",
        "y=3.5\n",
        "z=\"10\"\n"
      ]
    },
    {
      "cell_type": "code",
      "source": [
        "str(x)+z"
      ],
      "metadata": {
        "colab": {
          "base_uri": "https://localhost:8080/",
          "height": 36
        },
        "id": "7JBwYo0YXSE7",
        "outputId": "75200cf9-dcd3-407f-f2e3-dd89952f0351"
      },
      "execution_count": null,
      "outputs": [
        {
          "output_type": "execute_result",
          "data": {
            "text/plain": [
              "'10string'"
            ],
            "application/vnd.google.colaboratory.intrinsic+json": {
              "type": "string"
            }
          },
          "metadata": {},
          "execution_count": 6
        }
      ]
    },
    {
      "cell_type": "code",
      "source": [
        "str(x)==z"
      ],
      "metadata": {
        "colab": {
          "base_uri": "https://localhost:8080/"
        },
        "id": "IkqQvBZJXaTO",
        "outputId": "e7812759-cf6c-4efb-b54f-b94756207053"
      },
      "execution_count": null,
      "outputs": [
        {
          "output_type": "execute_result",
          "data": {
            "text/plain": [
              "True"
            ]
          },
          "metadata": {},
          "execution_count": 15
        }
      ]
    },
    {
      "cell_type": "code",
      "source": [
        "10+(10**2-10.0)+x*5"
      ],
      "metadata": {
        "colab": {
          "base_uri": "https://localhost:8080/"
        },
        "id": "-Spp00qRXk1a",
        "outputId": "b3fe2416-8f43-4b41-fa07-3a52c2a2ec48"
      },
      "execution_count": null,
      "outputs": [
        {
          "output_type": "execute_result",
          "data": {
            "text/plain": [
              "150.0"
            ]
          },
          "metadata": {},
          "execution_count": 20
        }
      ]
    },
    {
      "cell_type": "code",
      "source": [
        "a=\"ABAAA\"\n",
        "b=\"ABBBB\""
      ],
      "metadata": {
        "id": "BPNtkBACX3Hk"
      },
      "execution_count": null,
      "outputs": []
    },
    {
      "cell_type": "code",
      "source": [
        "len(a)==len(b)"
      ],
      "metadata": {
        "colab": {
          "base_uri": "https://localhost:8080/"
        },
        "id": "qbvD5ks7YCHo",
        "outputId": "097439c5-c433-4ec6-ef27-29aa23965832"
      },
      "execution_count": null,
      "outputs": [
        {
          "output_type": "execute_result",
          "data": {
            "text/plain": [
              "True"
            ]
          },
          "metadata": {},
          "execution_count": 28
        }
      ]
    },
    {
      "cell_type": "code",
      "source": [
        "i=True"
      ],
      "metadata": {
        "id": "Zp_vMI1uYDiL"
      },
      "execution_count": null,
      "outputs": []
    },
    {
      "cell_type": "code",
      "source": [
        "type(i)"
      ],
      "metadata": {
        "colab": {
          "base_uri": "https://localhost:8080/"
        },
        "id": "TTbwCQSCYWav",
        "outputId": "d2d11cb6-76e6-471d-a2c2-3137f419bb9c"
      },
      "execution_count": null,
      "outputs": [
        {
          "output_type": "execute_result",
          "data": {
            "text/plain": [
              "bool"
            ]
          },
          "metadata": {},
          "execution_count": 30
        }
      ]
    },
    {
      "cell_type": "code",
      "source": [
        "if (x<5)\n",
        "{\n",
        "\n",
        "}"
      ],
      "metadata": {
        "id": "Za9tJBUHYe1n"
      },
      "execution_count": null,
      "outputs": []
    },
    {
      "cell_type": "code",
      "source": [
        "if x<5:\n",
        "  print(\"x = \"+str(x))\n",
        "elif x>10:\n",
        "  print(\"x>10\")\n",
        "else:\n",
        "  print(\"x = \"+str(x))"
      ],
      "metadata": {
        "colab": {
          "base_uri": "https://localhost:8080/"
        },
        "id": "vkAyZ00qYXQi",
        "outputId": "67d81ac3-89d2-412b-bee2-db76baf729f8"
      },
      "execution_count": null,
      "outputs": [
        {
          "output_type": "stream",
          "name": "stdout",
          "text": [
            "x = 10\n"
          ]
        }
      ]
    },
    {
      "cell_type": "code",
      "source": [
        "for(int i=0;i<100;i++)\n",
        "{\n",
        "\n",
        "}"
      ],
      "metadata": {
        "id": "hqFsbqx-Ymni"
      },
      "execution_count": null,
      "outputs": []
    },
    {
      "cell_type": "code",
      "source": [
        "array = [10,1,3456,6,8]\n"
      ],
      "metadata": {
        "id": "x34Iz22lZJdi"
      },
      "execution_count": null,
      "outputs": []
    },
    {
      "cell_type": "code",
      "source": [
        "for i in array:\n",
        "  print(i)"
      ],
      "metadata": {
        "colab": {
          "base_uri": "https://localhost:8080/"
        },
        "id": "_PYO8VBgY9B6",
        "outputId": "513eb16b-16bf-4a46-9e14-9e85421c03dd"
      },
      "execution_count": null,
      "outputs": [
        {
          "output_type": "stream",
          "name": "stdout",
          "text": [
            "10\n",
            "1\n",
            "3456\n",
            "6\n",
            "8\n"
          ]
        }
      ]
    },
    {
      "cell_type": "code",
      "source": [
        "array.append(100)"
      ],
      "metadata": {
        "id": "qr--ythZZFHn"
      },
      "execution_count": null,
      "outputs": []
    },
    {
      "cell_type": "code",
      "source": [
        "array.extend()"
      ],
      "metadata": {
        "colab": {
          "base_uri": "https://localhost:8080/"
        },
        "id": "WDa3q-OIZeJC",
        "outputId": "b3006f85-67c5-44ed-8118-2322469d5972"
      },
      "execution_count": null,
      "outputs": [
        {
          "output_type": "execute_result",
          "data": {
            "text/plain": [
              "[10, 1, 3456, 6, 8, 100]"
            ]
          },
          "metadata": {},
          "execution_count": 44
        }
      ]
    },
    {
      "cell_type": "code",
      "source": [
        "array.append(\"hey\")"
      ],
      "metadata": {
        "id": "qICdfZZ5Ze05"
      },
      "execution_count": null,
      "outputs": []
    },
    {
      "cell_type": "code",
      "source": [
        "array.extend([10,9,10])"
      ],
      "metadata": {
        "id": "fSxNTG72ZjwM"
      },
      "execution_count": null,
      "outputs": []
    },
    {
      "cell_type": "code",
      "source": [
        "array[0]=5"
      ],
      "metadata": {
        "id": "spotNhwdZkcQ"
      },
      "execution_count": null,
      "outputs": []
    },
    {
      "cell_type": "code",
      "source": [
        "set_=set([4,5,5,6])"
      ],
      "metadata": {
        "id": "a716lhKDZu8y"
      },
      "execution_count": null,
      "outputs": []
    },
    {
      "cell_type": "code",
      "source": [
        "dict_={\"one\":1,\"two\":2,\"three\":3}\n"
      ],
      "metadata": {
        "id": "p7MDwNoVZ3qR"
      },
      "execution_count": null,
      "outputs": []
    },
    {
      "cell_type": "code",
      "source": [
        "dict_"
      ],
      "metadata": {
        "colab": {
          "base_uri": "https://localhost:8080/"
        },
        "id": "Tmje7TsOaDCg",
        "outputId": "88dd63c4-9a35-4ef7-9764-ed551862a1e8"
      },
      "execution_count": null,
      "outputs": [
        {
          "output_type": "execute_result",
          "data": {
            "text/plain": [
              "{'one': 1, 'two': 2, 'three': 3}"
            ]
          },
          "metadata": {},
          "execution_count": 70
        }
      ]
    },
    {
      "cell_type": "code",
      "source": [
        "dict_[\"four\"]=4"
      ],
      "metadata": {
        "id": "XLbRqQFxanY7"
      },
      "execution_count": null,
      "outputs": []
    },
    {
      "cell_type": "code",
      "source": [
        "dict_[50]=23"
      ],
      "metadata": {
        "id": "Md3RhueYaqc3"
      },
      "execution_count": null,
      "outputs": []
    },
    {
      "cell_type": "code",
      "source": [
        "list(dict_.values())"
      ],
      "metadata": {
        "colab": {
          "base_uri": "https://localhost:8080/"
        },
        "id": "YgeCRplhasYl",
        "outputId": "f87debcd-d29b-46f7-9d3d-3685cf7587f2"
      },
      "execution_count": null,
      "outputs": [
        {
          "output_type": "execute_result",
          "data": {
            "text/plain": [
              "[1, 2, 3, 4, 23]"
            ]
          },
          "metadata": {},
          "execution_count": 76
        }
      ]
    },
    {
      "cell_type": "code",
      "source": [
        "a=[1,2,34,5,6]\n",
        "b=[1,4,67,8,9,90,5]\n"
      ],
      "metadata": {
        "id": "6SrnNDYNatkY"
      },
      "execution_count": null,
      "outputs": []
    },
    {
      "cell_type": "code",
      "source": [
        "for i,j in zip(a,b):\n",
        "  print(i,j)"
      ],
      "metadata": {
        "colab": {
          "base_uri": "https://localhost:8080/"
        },
        "id": "jhm_XRRca5Ri",
        "outputId": "f31b9b5f-0a4a-4478-8e1e-809a24c0f61b"
      },
      "execution_count": null,
      "outputs": [
        {
          "output_type": "stream",
          "name": "stdout",
          "text": [
            "1 1\n",
            "2 4\n",
            "34 67\n",
            "5 8\n",
            "6 9\n"
          ]
        }
      ]
    },
    {
      "cell_type": "code",
      "source": [
        "tuple_=(1,1,2,4)"
      ],
      "metadata": {
        "id": "8orp5fvWbErh"
      },
      "execution_count": null,
      "outputs": []
    },
    {
      "cell_type": "code",
      "source": [
        "tuple_[1]=4"
      ],
      "metadata": {
        "colab": {
          "base_uri": "https://localhost:8080/",
          "height": 175
        },
        "id": "wxtVYkZvbUDB",
        "outputId": "3a543645-9392-4ccb-f5e1-4b0fb1a5abbd"
      },
      "execution_count": null,
      "outputs": [
        {
          "output_type": "error",
          "ename": "TypeError",
          "evalue": "ignored",
          "traceback": [
            "\u001b[0;31m---------------------------------------------------------------------------\u001b[0m",
            "\u001b[0;31mTypeError\u001b[0m                                 Traceback (most recent call last)",
            "\u001b[0;32m<ipython-input-81-c4ca7b96a803>\u001b[0m in \u001b[0;36m<cell line: 1>\u001b[0;34m()\u001b[0m\n\u001b[0;32m----> 1\u001b[0;31m \u001b[0mtuple_\u001b[0m\u001b[0;34m[\u001b[0m\u001b[0;36m1\u001b[0m\u001b[0;34m]\u001b[0m\u001b[0;34m=\u001b[0m\u001b[0;36m4\u001b[0m\u001b[0;34m\u001b[0m\u001b[0;34m\u001b[0m\u001b[0m\n\u001b[0m",
            "\u001b[0;31mTypeError\u001b[0m: 'tuple' object does not support item assignment"
          ]
        }
      ]
    },
    {
      "cell_type": "code",
      "source": [
        "set_[1]"
      ],
      "metadata": {
        "colab": {
          "base_uri": "https://localhost:8080/",
          "height": 175
        },
        "id": "c8HoZeulbU96",
        "outputId": "ebda3c1a-194d-4705-a737-2e44e8feaeb6"
      },
      "execution_count": null,
      "outputs": [
        {
          "output_type": "error",
          "ename": "TypeError",
          "evalue": "ignored",
          "traceback": [
            "\u001b[0;31m---------------------------------------------------------------------------\u001b[0m",
            "\u001b[0;31mTypeError\u001b[0m                                 Traceback (most recent call last)",
            "\u001b[0;32m<ipython-input-82-c852f99ed78a>\u001b[0m in \u001b[0;36m<cell line: 1>\u001b[0;34m()\u001b[0m\n\u001b[0;32m----> 1\u001b[0;31m \u001b[0mset_\u001b[0m\u001b[0;34m[\u001b[0m\u001b[0;36m1\u001b[0m\u001b[0;34m]\u001b[0m\u001b[0;34m\u001b[0m\u001b[0;34m\u001b[0m\u001b[0m\n\u001b[0m",
            "\u001b[0;31mTypeError\u001b[0m: 'set' object is not subscriptable"
          ]
        }
      ]
    },
    {
      "cell_type": "code",
      "source": [
        "set_"
      ],
      "metadata": {
        "colab": {
          "base_uri": "https://localhost:8080/"
        },
        "id": "RcBrGRNpbWzq",
        "outputId": "21f0666a-d422-496f-aee0-5f75c318bbf6"
      },
      "execution_count": null,
      "outputs": [
        {
          "output_type": "execute_result",
          "data": {
            "text/plain": [
              "{4, 5, 6}"
            ]
          },
          "metadata": {},
          "execution_count": 83
        }
      ]
    },
    {
      "cell_type": "code",
      "source": [
        "zip(a,b)"
      ],
      "metadata": {
        "colab": {
          "base_uri": "https://localhost:8080/",
          "height": 175
        },
        "id": "9mQ8syjqbY4p",
        "outputId": "b65c9347-9c0a-451c-a19f-1c81d0392ee9"
      },
      "execution_count": null,
      "outputs": [
        {
          "output_type": "error",
          "ename": "TypeError",
          "evalue": "ignored",
          "traceback": [
            "\u001b[0;31m---------------------------------------------------------------------------\u001b[0m",
            "\u001b[0;31mTypeError\u001b[0m                                 Traceback (most recent call last)",
            "\u001b[0;32m<ipython-input-86-a9e0276d2712>\u001b[0m in \u001b[0;36m<cell line: 1>\u001b[0;34m()\u001b[0m\n\u001b[0;32m----> 1\u001b[0;31m \u001b[0mzip\u001b[0m\u001b[0;34m(\u001b[0m\u001b[0ma\u001b[0m\u001b[0;34m,\u001b[0m\u001b[0mb\u001b[0m\u001b[0;34m)\u001b[0m\u001b[0;34m[\u001b[0m\u001b[0;36m0\u001b[0m\u001b[0;34m]\u001b[0m\u001b[0;34m\u001b[0m\u001b[0;34m\u001b[0m\u001b[0m\n\u001b[0m",
            "\u001b[0;31mTypeError\u001b[0m: 'zip' object is not subscriptable"
          ]
        }
      ]
    },
    {
      "cell_type": "code",
      "source": [
        "def function(x=5,y=5):\n",
        "  return x+y"
      ],
      "metadata": {
        "id": "ZaXbMGgYbkX7"
      },
      "execution_count": null,
      "outputs": []
    },
    {
      "cell_type": "code",
      "source": [
        "function(10)"
      ],
      "metadata": {
        "colab": {
          "base_uri": "https://localhost:8080/"
        },
        "id": "LmEVHLPCbzYf",
        "outputId": "73d5cd57-0e32-4729-9102-065e5033faed"
      },
      "execution_count": null,
      "outputs": [
        {
          "output_type": "execute_result",
          "data": {
            "text/plain": [
              "15"
            ]
          },
          "metadata": {},
          "execution_count": 92
        }
      ]
    },
    {
      "cell_type": "code",
      "source": [
        "# Import all modules that are required\n",
        "import numpy as np\n",
        "import pandas as pd\n",
        "\n",
        "\n",
        "import requests\n",
        "from bs4 import BeautifulSoup\n",
        "from IPython.display import HTML\n",
        "\n",
        "# Setting up 'requests' to make HTTPS requests properly takes some extra steps... we'll skip them for now.\n",
        "requests.packages.urllib3.disable_warnings()\n",
        "\n",
        "import warnings\n",
        "warnings.filterwarnings(\"ignore\")"
      ],
      "metadata": {
        "id": "2WLgHaF7b02h"
      },
      "execution_count": null,
      "outputs": []
    },
    {
      "cell_type": "code",
      "source": [
        "url = \"https://mon.gov.mk/category/?id=34\""
      ],
      "metadata": {
        "id": "gzZWypLph_JC"
      },
      "execution_count": null,
      "outputs": []
    },
    {
      "cell_type": "markdown",
      "source": [
        "#For cyrillic characters"
      ],
      "metadata": {
        "id": "eRY3VEFTI9_u"
      }
    },
    {
      "cell_type": "code",
      "source": [
        "import urllib.request as urllib2\n",
        "\n",
        "request = urllib2.Request(url)\n",
        "snapshot = urllib2.urlopen(request)"
      ],
      "metadata": {
        "id": "xRceHuSKiUoT"
      },
      "execution_count": null,
      "outputs": []
    },
    {
      "cell_type": "code",
      "source": [
        "\n",
        "soup = BeautifulSoup(snapshot.read().decode('utf-8'), 'html.parser')\n"
      ],
      "metadata": {
        "id": "tf1ddXwwiXzd"
      },
      "execution_count": null,
      "outputs": []
    },
    {
      "cell_type": "code",
      "source": [
        "print(soup.prettify())"
      ],
      "metadata": {
        "colab": {
          "base_uri": "https://localhost:8080/"
        },
        "id": "2fOEuGmRirs_",
        "outputId": "c8b8405f-fb4b-4a5a-81c2-1a59be1eb85c"
      },
      "execution_count": null,
      "outputs": [
        {
          "output_type": "stream",
          "name": "stdout",
          "text": [
            "<!DOCTYPE html>\n",
            "<html lang=\"en-GB\" prefix=\"og: http://ogp.me/ns#\">\n",
            " <head>\n",
            "  <base href=\"https://mon.gov.mk\"/>\n",
            "  <meta charset=\"utf-8\"/>\n",
            "  <meta content=\"width=device-width, initial-scale=1\" name=\"viewport\"/>\n",
            "  <title>\n",
            "   Вести и настани\n",
            "  </title>\n",
            "  <meta content=\"Официјална веб страна на Министерството за образование и наука\" name=\"description\">\n",
            "   <meta content=\"http://mon.anet.com.mk/stored/content/\" name=\"image\"/>\n",
            "   <meta content=\"МОН\" name=\"keywords\">\n",
            "    <link href=\"https://mon.gov.mkpage/?id=34\" rel=\"canonical\"/>\n",
            "    <link href=\"http://mon.anet.com.mk/stored/content/\" rel=\"image_src\" type=\"image/jpeg\"/>\n",
            "    <link href=\"/stored/site/favicon-mon.jpg\" rel=\"shortcut icon\"/>\n",
            "    <meta content=\"article\" property=\"og:type\">\n",
            "     <meta content=\"Вести и настани\" property=\"og:title\"/>\n",
            "     <meta content=\"Официјална веб страна на Министерството за образование и наука\" property=\"og:description\"/>\n",
            "     <meta content=\"https://mon.gov.mkpage/?id=34\" property=\"og:url\"/>\n",
            "     <meta content=\"Министерство за образование и наука\" property=\"og:site_name\"/>\n",
            "     <meta content=\"http://mon.anet.com.mk/stored/content/\" property=\"og:image\"/>\n",
            "     <meta content=\"http://mon.anet.com.mk/stored/content/\" property=\"og:image:url\"/>\n",
            "     <meta content=\"Официјална веб страна на Министерството за образование и наука\" name=\"twitter:description\"/>\n",
            "     <meta content=\"Вести и настани\" name=\"twitter:title\"/>\n",
            "     <link href=\"//fonts.googleapis.com\" rel=\"dns-prefetch\"/>\n",
            "     <link href=\"//s.w.org\" rel=\"dns-prefetch\"/>\n",
            "     <link href=\"theme/css/styles.css?ver=5.0.4\" id=\"contact-form-7-css\" media=\"all\" rel=\"stylesheet\" type=\"text/css\"/>\n",
            "     <link href=\"theme/css/animate.css?ver=4.9.8\" id=\"animate-css\" media=\"all\" rel=\"stylesheet\" type=\"text/css\"/>\n",
            "     <link href=\"theme/css/pe-easy-slider.css?ver=4.9.8\" id=\"pe-easy-slider-css\" media=\"all\" rel=\"stylesheet\" type=\"text/css\"/>\n",
            "     <link href=\"theme/css/normalize.min.css?ver=5.0.0\" id=\"normalize-css\" media=\"all\" rel=\"stylesheet\" type=\"text/css\"/>\n",
            "     <link href=\"theme/css/font-awesome.min.css?ver=4.7.0\" id=\"font-awesome-css\" media=\"all\" rel=\"stylesheet\" type=\"text/css\"/>\n",
            "     <link href=\"theme/css/theme-mon.css\" id=\"pe-theme-css\" media=\"all\" rel=\"stylesheet\" type=\"text/css\"/>\n",
            "     <link href=\"theme/css/offcanvas.css\" id=\"pe-offcanvas-css\" media=\"all\" rel=\"stylesheet\" type=\"text/css\"/>\n",
            "     <link href=\"theme/css/high-contrast.css\" id=\"pe-high-contrast-css\" media=\"all\" rel=\"stylesheet\" type=\"text/css\"/>\n",
            "     <link href=\"theme/css/night-version.css\" id=\"pe-night-version-css\" media=\"all\" rel=\"stylesheet\" type=\"text/css\"/>\n",
            "     <link href=\"theme/css/style.css?ver=1.00\" id=\"pe-style-css\" media=\"all\" rel=\"stylesheet\" type=\"text/css\"/>\n",
            "     <style id=\"pe-style-inline-css\" type=\"text/css\">\n",
            "      #pe-bar-left #pe-logo a {color: #d1b26b;} table tr:nth-child(odd) td, .pe-table tr:nth-child(odd) td {background: #fff;}\n",
            "     </style>\n",
            "     <link href=\"https://fonts.googleapis.com/css?family=Raleway%3A400%2C500%2C600&amp;ver=1511340228\" id=\"redux-google-fonts-onepage-css\" media=\"all\" rel=\"stylesheet\" type=\"text/css\"/>\n",
            "     <link href=\"//fonts.googleapis.com/css?family=Ubuntu+Condensed\" rel=\"stylesheet\" type=\"text/css\"/>\n",
            "     <script src=\"theme/js/jquery/jquery.js?ver=1.12.4\" type=\"text/javascript\">\n",
            "     </script>\n",
            "     <script src=\"theme/js/jquery/jquery-migrate.min.js?ver=1.4.1\" type=\"text/javascript\">\n",
            "     </script>\n",
            "     <script src=\"theme/js/bootstrap.min.js?ver=3.2.0\" type=\"text/javascript\">\n",
            "     </script>\n",
            "     <script src=\"theme/js/script.js?ver=1\" type=\"text/javascript\">\n",
            "     </script>\n",
            "     <meta content=\"Anet CMS 5.0\" name=\"generator\"/>\n",
            "     <link href=\"https://mon.gov.mk\" rel=\"shortlink\"/>\n",
            "     <script>\n",
            "      google analytics\n",
            "     </script>\n",
            "     <style>\n",
            "      @media print\r\n",
            "{ .no-print, .no-print * {display: none !important;}}\n",
            "     </style>\n",
            "     <script src=\"//s7.addthis.com/js/300/addthis_widget.js#pubid=ra-5c765ad840be492f\" type=\"text/javascript\">\n",
            "     </script>\n",
            "    </meta>\n",
            "   </meta>\n",
            "  </meta>\n",
            " </head>\n",
            " <body class=\"post-template-default single single-post postid-4805 single-format-standard sticky-bar menu-standard noheader top-bar wcag wcagfocus\">\n",
            "  <div id=\"pe-main\">\n",
            "   <div class=\"no-print\" id=\"pe-main-header\">\n",
            "    <p class=\"sr-only\" id=\"pe-main-header-title\">\n",
            "     Министерство за образование и наука\n",
            "    </p>\n",
            "   </div>\n",
            "   <nav aria-label=\"Skip Content menu\" class=\"no-print\" id=\"pe-skip-menu\" role=\"navigation\">\n",
            "   </nav>\n",
            "   <header class=\"header-standard no-print\" id=\"pe-header\" role=\"banner\">\n",
            "    <div id=\"pe-header-in\">\n",
            "     <div id=\"pe-logo-nav\">\n",
            "      <div class=\"pe-container\" id=\"pe-logo-nav-in\" style=\"background:url('/stored/site/hbg-mk_1_1.jpg') no-repeat;background-position:left center;\">\n",
            "       <div class=\"pe-widget-raw\" id=\"pe-wcag\">\n",
            "        <div class=\"pe-wcag-settings clearfix\" style=\"background:rgba(12,66,111,0.3)\">\n",
            "         <div style=\"float:right;margin-top:-1px\">\n",
            "          <a href=\"/mk/category/?id=34\">\n",
            "           <img src=\"theme/img/mk-flag.gif\"/>\n",
            "          </a>\n",
            "          <a href=\"/al/category/?id=34\">\n",
            "           <img src=\"theme/img/al-flag.gif\"/>\n",
            "          </a>\n",
            "          <a href=\"/en/category/?id=34\">\n",
            "           <img src=\"theme/img/en-flag.gif\"/>\n",
            "          </a>\n",
            "         </div>\n",
            "         <ul class=\"clearfix\" style=\"\">\n",
            "          <li class=\"contrast\">\n",
            "           <ul>\n",
            "            <li>\n",
            "             <a class=\"pe-normal\" href=\"?contrast=normal\" title=\"Set default contrast mode\">\n",
            "              <span aria-hidden=\"true\" class=\"fa fa-sun-o\">\n",
            "              </span>\n",
            "              <span class=\"sr-only\">\n",
            "               Default contrast\n",
            "              </span>\n",
            "             </a>\n",
            "            </li>\n",
            "            <li>\n",
            "             <a class=\"pe-night\" href=\"?contrast=night\" title=\"Set night contrast mode\">\n",
            "              <span aria-hidden=\"true\" class=\"fa fa-moon-o\">\n",
            "              </span>\n",
            "              <span class=\"sr-only\">\n",
            "               Night contrast\n",
            "              </span>\n",
            "             </a>\n",
            "            </li>\n",
            "            <li>\n",
            "             <a class=\"pe-highcontrast\" href=\"?contrast=highcontrast\" title=\"Set black and white contrast mode\">\n",
            "              <span aria-hidden=\"true\" class=\"fa fa-eye\">\n",
            "              </span>\n",
            "              <span class=\"sr-only\">\n",
            "               Black and White contrast\n",
            "              </span>\n",
            "             </a>\n",
            "            </li>\n",
            "            <li>\n",
            "             <a class=\"pe-highcontrast2\" href=\"?contrast=highcontrast2\" title=\"Set black and yellow contrast mode\">\n",
            "              <span aria-hidden=\"true\" class=\"fa fa-eye\">\n",
            "              </span>\n",
            "              <span class=\"sr-only\">\n",
            "               Black and Yellow contrast\n",
            "              </span>\n",
            "             </a>\n",
            "            </li>\n",
            "            <li>\n",
            "             <a class=\"pe-highcontrast3\" href=\"?contrast=highcontrast3\" title=\"Set yellow and black contrast mode\">\n",
            "              <span aria-hidden=\"true\" class=\"fa fa-eye\">\n",
            "              </span>\n",
            "              <span class=\"sr-only\">\n",
            "               Yellow and Black contrast\n",
            "              </span>\n",
            "             </a>\n",
            "            </li>\n",
            "           </ul>\n",
            "          </li>\n",
            "          <li class=\"page-width\">\n",
            "           <ul>\n",
            "            <li class=\"separator\">\n",
            "            </li>\n",
            "            <li>\n",
            "             <a class=\"pe-fixed\" href=\"?width=fixed\" title=\"Set fixed layout mode\">\n",
            "              <span aria-hidden=\"true\" class=\"fa fa-compress\">\n",
            "              </span>\n",
            "              <span class=\"sr-only\">\n",
            "               Fixed layout\n",
            "              </span>\n",
            "             </a>\n",
            "            </li>\n",
            "            <li>\n",
            "             <a class=\"pe-wide\" href=\"?width=wide\" title=\"Set wide layout mode\">\n",
            "              <span aria-hidden=\"true\" class=\"fa fa-expand\">\n",
            "              </span>\n",
            "              <span class=\"sr-only\">\n",
            "               Wide layout\n",
            "              </span>\n",
            "             </a>\n",
            "            </li>\n",
            "            <li class=\"separator\">\n",
            "            </li>\n",
            "           </ul>\n",
            "          </li>\n",
            "          <li class=\"resizer\">\n",
            "           <ul>\n",
            "            <li>\n",
            "             <a class=\"pe-font-smaller\" href=\"?fontsize=70\" title=\"Set smaller font size\">\n",
            "              <span aria-hidden=\"true\" class=\"fa fa-minus-circle\">\n",
            "              </span>\n",
            "              <span class=\"sr-only\">\n",
            "               Smaller Font\n",
            "              </span>\n",
            "             </a>\n",
            "            </li>\n",
            "            <li>\n",
            "             <a class=\"pe-font-normal\" href=\"?fontsize=100\" title=\"Set default font size\">\n",
            "              <span aria-hidden=\"true\" class=\"fa fa-font\">\n",
            "              </span>\n",
            "              <span class=\"sr-only\">\n",
            "               Default Font\n",
            "              </span>\n",
            "             </a>\n",
            "            </li>\n",
            "            <li>\n",
            "             <a class=\"pe-font-larger\" href=\"?fontsize=130\" title=\"Set larger font size\">\n",
            "              <span aria-hidden=\"true\" class=\"fa fa-plus-circle\">\n",
            "              </span>\n",
            "              <span class=\"sr-only\">\n",
            "               Larger Font\n",
            "              </span>\n",
            "             </a>\n",
            "            </li>\n",
            "           </ul>\n",
            "          </li>\n",
            "         </ul>\n",
            "        </div>\n",
            "        <div id=\"pe-bar-left\" style=\"padding:10px\">\n",
            "         <div id=\"pe-logo\">\n",
            "          <a href=\"https://mon.gov.mk\">\n",
            "           <img alt=\"Министерство за образование и наука\" src=\"/stored/site/mon-hlogo-mk.jpg\" style=\"float:left;max-height:60px;margin:0px 10px 0px 10px;\" title=\"Министерство за образование и наука\"/>\n",
            "          </a>\n",
            "         </div>\n",
            "        </div>\n",
            "       </div>\n",
            "       <div id=\"pe-bar-left\" style=\"background:rgba(255,255,255,0.1);padding:1%;width:100%;\">\n",
            "        <style>\n",
            "         #tmenu ul { display: inline;  margin: 0;  padding: 0;  font-size:90%;  font-family: 'Ubuntu Condensed';}\r\n",
            "#tmenu ul li {display: inline-block;}\r\n",
            "#tmenu ul li:hover {background:transparent;}\r\n",
            "#tmenu ul li:hover ul {display: block;}\r\n",
            "#tmenu ul li ul {  position: absolute;  min-width: 150px;  width:auto;  display: none;}\r\n",
            "#tmenu ul li ul li { background: #f0f0f0;  display: block;  min-width:190px;  left: -15px;  border-bottom:solid 1px white;}\r\n",
            "#tmenu ul li ul li a {display:block !important; align:left; padding:5px; color:White;text-decoration:none;} \r\n",
            "#tmenu ul li ul li:hover {background: #e0e0e0;}\n",
            "        </style>\n",
            "        <!--Search -->\n",
            "        <form action=\"search\" class=\"searchform\" method=\"get\" role=\"search\" style=\"float:right;margin-right:0;\">\n",
            "         <div class=\"pe-search-box\">\n",
            "          <div class=\"pe-search-input\">\n",
            "           <label class=\"sr-only\" for=\"input-5be2b8eaee644\">\n",
            "            Search for:\n",
            "           </label>\n",
            "           <input class=\"s\" id=\"Search1\" name=\"s\" placeholder=\"Пребарувај ...\" type=\"search\" value=\"\"/>\n",
            "          </div>\n",
            "          <button class=\"button\" type=\"submit\" value=\"Search\">\n",
            "           <span class=\"fa fa-search\">\n",
            "           </span>\n",
            "           <span class=\"sr-only\">\n",
            "            Search\n",
            "           </span>\n",
            "          </button>\n",
            "         </div>\n",
            "        </form>\n",
            "        <!--Navigation -->\n",
            "        <nav aria-label=\"Primary menu\" id=\"pe-main-menu\" tabindex=\"-1\">\n",
            "         <div class=\"pe-main-menu\" id=\"tmenu\">\n",
            "          <ul class=\"nav-menu\" id=\"menu-main-manu\">\n",
            "           <li class=\"menu-item menu-item-type-post_type menu-item-object-page current-menu-item-1\" id=\"menu-item-1\">\n",
            "            <a href=\"https://mon.gov.mk\" style=\"font-family: 'Ubuntu Condensed';\" target=\"_parent\">\n",
            "             ПОЧЕТНА\n",
            "            </a>\n",
            "           </li>\n",
            "           <li class=\"menu-item menu-item-type-post_type menu-item-object-page current-menu-item-2\" id=\"menu-item-2\">\n",
            "            <a href=\"/category/?id=1\" style=\"font-family: 'Ubuntu Condensed';\" target=\"_parent\">\n",
            "             МИНИСТЕРСТВО\n",
            "            </a>\n",
            "            <ul class=\"nav-menu\" id=\"menu-main-manu\">\n",
            "             <li class=\"\">\n",
            "              <a href=\"page/?id=7\" style=\"color:#333\" target=\"_parent\">\n",
            "               Министер\n",
            "              </a>\n",
            "             </li>\n",
            "             <li class=\"\">\n",
            "              <a href=\"page/?id=8\" style=\"color:#333\" target=\"_parent\">\n",
            "               Заменик Министер\n",
            "              </a>\n",
            "             </li>\n",
            "             <li class=\"\">\n",
            "              <a href=\"https://mon.gov.mk/page/?id=9\" style=\"color:#333\" target=\"_parent\">\n",
            "               Државен секретар\n",
            "              </a>\n",
            "             </li>\n",
            "             <li class=\"\">\n",
            "              <a href=\"/page/?id=10\" style=\"color:#333\" target=\"_parent\">\n",
            "               Мисија и визија\n",
            "              </a>\n",
            "             </li>\n",
            "             <li class=\"\">\n",
            "              <a href=\"/page/?id=11\" style=\"color:#333\" target=\"_parent\">\n",
            "               Политика за квалитет\n",
            "              </a>\n",
            "             </li>\n",
            "             <li class=\"\">\n",
            "              <a href=\"/page/?id=2042\" style=\"color:#333\" target=\"_parent\">\n",
            "               Организација и систематизација на МОН\n",
            "              </a>\n",
            "             </li>\n",
            "             <li class=\"\">\n",
            "              <a href=\"/page/?id=2043\" style=\"color:#333\" target=\"_parent\">\n",
            "               Сектори во МОН\n",
            "              </a>\n",
            "             </li>\n",
            "             <li class=\"\">\n",
            "              <a href=\"/page/?id=2044\" style=\"color:#333\" target=\"_parent\">\n",
            "               Органи во МОН\n",
            "              </a>\n",
            "             </li>\n",
            "             <li class=\"\">\n",
            "              <a href=\"page/?id=2067\" style=\"color:#333\" target=\"_parent\">\n",
            "               Кодекс за административни службеници\n",
            "              </a>\n",
            "             </li>\n",
            "             <li class=\"\">\n",
            "              <a href=\"category/?id=2074\" style=\"color:#333\" target=\"_parent\">\n",
            "               Заштитено внатрешно пријавување\n",
            "              </a>\n",
            "             </li>\n",
            "             <li class=\"\">\n",
            "              <a href=\"content/?id=3512\" style=\"color:#333\" target=\"_parent\">\n",
            "               Интегритет, судир на интереси и примање подароци\n",
            "              </a>\n",
            "             </li>\n",
            "             <li class=\"\">\n",
            "              <a href=\"content/?id=3943\" style=\"color:#333\" target=\"_parent\">\n",
            "               Службеник за млади\n",
            "              </a>\n",
            "             </li>\n",
            "            </ul>\n",
            "           </li>\n",
            "           <li class=\"menu-item menu-item-type-post_type menu-item-object-page current-menu-item-3\" id=\"menu-item-3\">\n",
            "            <a href=\"/category/?id=2\" style=\"font-family: 'Ubuntu Condensed';\" target=\"_parent\">\n",
            "             Односи со јавност\n",
            "            </a>\n",
            "            <ul class=\"nav-menu\" id=\"menu-main-manu\">\n",
            "             <li class=\"\">\n",
            "              <a href=\"/category/?id=34\" style=\"color:#333\" target=\"_parent\">\n",
            "               Вести и настани\n",
            "              </a>\n",
            "             </li>\n",
            "             <li class=\"\">\n",
            "              <a href=\"http://monarhiva.mon.gov.mk\" style=\"color:#333\" target=\"_blank\">\n",
            "               Архива\n",
            "              </a>\n",
            "             </li>\n",
            "             <li class=\"\">\n",
            "              <a href=\"/category/?id=35\" style=\"color:#333\" target=\"_parent\">\n",
            "               Најави / Огласи / Известувања\n",
            "              </a>\n",
            "             </li>\n",
            "             <li class=\"\">\n",
            "              <a href=\"/category/?id=36\" style=\"color:#333\" target=\"_parent\">\n",
            "               Заштита на личните податоци\n",
            "              </a>\n",
            "             </li>\n",
            "             <li class=\"\">\n",
            "              <a href=\"/category/?id=37\" style=\"color:#333\" target=\"_parent\">\n",
            "               Слободен пристап до информации\n",
            "              </a>\n",
            "             </li>\n",
            "             <li class=\"\">\n",
            "              <a href=\"content/?id=3195\" style=\"color:#333\" target=\"_parent\">\n",
            "               21 документ информации од јавен карактер и транспарентност и отчетност\n",
            "              </a>\n",
            "             </li>\n",
            "            </ul>\n",
            "           </li>\n",
            "           <li class=\"menu-item menu-item-type-post_type menu-item-object-page current-menu-item-4\" id=\"menu-item-4\">\n",
            "            <a href=\"category/?id=2078\" style=\"font-family: 'Ubuntu Condensed';\" target=\"_parent\">\n",
            "             КОНКУРСИ И СТИПЕНДИИ\n",
            "            </a>\n",
            "            <ul class=\"nav-menu\" id=\"menu-main-manu\">\n",
            "             <li class=\"\">\n",
            "              <a href=\"category/?id=3\" style=\"color:#333\" target=\"_parent\">\n",
            "               КОНКУРСИ\n",
            "              </a>\n",
            "             </li>\n",
            "             <li class=\"\">\n",
            "              <a href=\"category/?id=2077\" style=\"color:#333\" target=\"_parent\">\n",
            "               СТИПЕНДИИ\n",
            "              </a>\n",
            "             </li>\n",
            "            </ul>\n",
            "           </li>\n",
            "           <li class=\"menu-item menu-item-type-post_type menu-item-object-page current-menu-item-5\" id=\"menu-item-5\">\n",
            "            <a href=\"http://mon.gov.mk/category/?id=2049\" style=\"font-family: 'Ubuntu Condensed';\" target=\"_parent\">\n",
            "             ПРОЕКТИ\n",
            "            </a>\n",
            "            <ul class=\"nav-menu\" id=\"menu-main-manu\">\n",
            "             <li class=\"\">\n",
            "              <a href=\"category/?id=2072\" style=\"color:#333\" target=\"_parent\">\n",
            "               PEIP\n",
            "              </a>\n",
            "             </li>\n",
            "             <li class=\"\">\n",
            "              <a href=\"https://mon.gov.mk/category/?id=2076\" style=\"color:#333\" target=\"_parent\">\n",
            "               Енергетска ефикасност во студентските домови\n",
            "              </a>\n",
            "             </li>\n",
            "             <li class=\"\">\n",
            "              <a href=\"https://mon.gov.mk/category/?id=2080\" style=\"color:#333\" target=\"_parent\">\n",
            "               Твининг проект: Понатамошна поддршка за имплементирање на НРК\n",
            "              </a>\n",
            "             </li>\n",
            "             <li class=\"\">\n",
            "              <a href=\"category/?id=2062\" style=\"color:#333\" target=\"_parent\">\n",
            "               Интегрирано образование\n",
            "              </a>\n",
            "             </li>\n",
            "             <li class=\"\">\n",
            "              <a href=\"category/?id=2059\" style=\"color:#333\" target=\"_parent\">\n",
            "               Проект за професионален и кариерен развој на наставниците\n",
            "              </a>\n",
            "             </li>\n",
            "             <li class=\"\">\n",
            "              <a href=\"category/?id=2061\" style=\"color:#333\" target=\"_parent\">\n",
            "               Хоризонт 2020\n",
            "              </a>\n",
            "             </li>\n",
            "             <li class=\"\">\n",
            "              <a href=\"category/?id=2058\" style=\"color:#333\" target=\"_parent\">\n",
            "               SDIS\n",
            "              </a>\n",
            "             </li>\n",
            "            </ul>\n",
            "           </li>\n",
            "           <li class=\"menu-item menu-item-type-post_type menu-item-object-page current-menu-item-6\" id=\"menu-item-6\">\n",
            "            <a href=\"/category/?id=4\" style=\"font-family: 'Ubuntu Condensed';\" target=\"_parent\">\n",
            "             ДОКУМЕНТИ\n",
            "            </a>\n",
            "            <ul class=\"nav-menu\" id=\"menu-main-manu\">\n",
            "             <li class=\"\">\n",
            "              <a href=\"/category/?id=38\" style=\"color:#333\" target=\"_parent\">\n",
            "               Формулари и пријави\n",
            "              </a>\n",
            "             </li>\n",
            "             <li class=\"\">\n",
            "              <a href=\"category/?id=2073\" style=\"color:#333\" target=\"_parent\">\n",
            "               Интегрална евалуација\n",
            "              </a>\n",
            "             </li>\n",
            "             <li class=\"\">\n",
            "              <a href=\"/page/?id=2045\" style=\"color:#333\" target=\"_parent\">\n",
            "               Нострификација\n",
            "              </a>\n",
            "             </li>\n",
            "             <li class=\"\">\n",
            "              <a href=\"/page/?id=2046\" style=\"color:#333\" target=\"_parent\">\n",
            "               Учебници\n",
            "              </a>\n",
            "             </li>\n",
            "             <li class=\"\">\n",
            "              <a href=\"/page/?id=2047\" style=\"color:#333\" target=\"_parent\">\n",
            "               Акредитации\n",
            "              </a>\n",
            "             </li>\n",
            "             <li class=\"\">\n",
            "              <a href=\"/page/?id=2048\" style=\"color:#333\" target=\"_parent\">\n",
            "               Стратешки документи\n",
            "              </a>\n",
            "             </li>\n",
            "             <li class=\"\">\n",
            "              <a href=\"/category/?id=2049\" style=\"color:#333\" target=\"_parent\">\n",
            "               Останати проекти\n",
            "              </a>\n",
            "             </li>\n",
            "             <li class=\"\">\n",
            "              <a href=\"/page/?id=2050\" style=\"color:#333\" target=\"_parent\">\n",
            "               Ранг листи\n",
            "              </a>\n",
            "             </li>\n",
            "             <li class=\"\">\n",
            "              <a href=\"/page/?id=2051\" style=\"color:#333\" target=\"_parent\">\n",
            "               Национална рамка\n",
            "              </a>\n",
            "             </li>\n",
            "             <li class=\"\">\n",
            "              <a href=\"/page/?id=2052\" style=\"color:#333\" target=\"_parent\">\n",
            "               Отворено владино партнерство\n",
            "              </a>\n",
            "             </li>\n",
            "             <li class=\"\">\n",
            "              <a href=\"/page/?id=2053\" style=\"color:#333\" target=\"_parent\">\n",
            "               Листа на активни регистри\n",
            "              </a>\n",
            "             </li>\n",
            "             <li class=\"\">\n",
            "              <a href=\"/category/?id=2054\" style=\"color:#333\" target=\"_parent\">\n",
            "               Финансии / Јавни набавки\n",
            "              </a>\n",
            "             </li>\n",
            "            </ul>\n",
            "           </li>\n",
            "           <li class=\"menu-item menu-item-type-post_type menu-item-object-page current-menu-item-7\" id=\"menu-item-7\">\n",
            "            <a href=\"/category/?id=5\" style=\"font-family: 'Ubuntu Condensed';\" target=\"_parent\">\n",
            "             ПРОПИСИ\n",
            "            </a>\n",
            "            <ul class=\"nav-menu\" id=\"menu-main-manu\">\n",
            "             <li class=\"\">\n",
            "              <a href=\"/category/?id=2056\" style=\"color:#333\" target=\"_parent\">\n",
            "               Правилници\n",
            "              </a>\n",
            "             </li>\n",
            "             <li class=\"\">\n",
            "              <a href=\"category/?id=2079\" style=\"color:#333\" target=\"_parent\">\n",
            "               Стандарди\n",
            "              </a>\n",
            "             </li>\n",
            "             <li class=\"\">\n",
            "              <a href=\"category/?id=2070\" style=\"color:#333\" target=\"_parent\">\n",
            "               Упатства\n",
            "              </a>\n",
            "             </li>\n",
            "             <li class=\"\">\n",
            "              <a href=\"category/?id=2066\" style=\"color:#333\" target=\"_parent\">\n",
            "               Концепции\n",
            "              </a>\n",
            "             </li>\n",
            "             <li class=\"\">\n",
            "              <a href=\"category/?id=2068\" style=\"color:#333\" target=\"_parent\">\n",
            "               Уредби\n",
            "              </a>\n",
            "             </li>\n",
            "             <li class=\"\">\n",
            "              <a href=\"category/?id=2069\" style=\"color:#333\" target=\"_parent\">\n",
            "               Протоколи\n",
            "              </a>\n",
            "             </li>\n",
            "             <li class=\"\">\n",
            "              <a href=\"/page/?id=2057\" style=\"color:#333\" target=\"_parent\">\n",
            "               Календари\n",
            "              </a>\n",
            "             </li>\n",
            "             <li class=\"\">\n",
            "              <a href=\"/page/?id=2055\" style=\"color:#333\" target=\"_parent\">\n",
            "               Закони\n",
            "              </a>\n",
            "             </li>\n",
            "            </ul>\n",
            "           </li>\n",
            "           <li class=\"menu-item menu-item-type-post_type menu-item-object-page current-menu-item-8\" id=\"menu-item-8\">\n",
            "            <a href=\"/page/?id=6\" style=\"font-family: 'Ubuntu Condensed';\" target=\"_parent\">\n",
            "             КОНТАКТ\n",
            "            </a>\n",
            "           </li>\n",
            "          </ul>\n",
            "         </div>\n",
            "        </nav>\n",
            "        <!--Navicon -->\n",
            "        <div id=\"pe-offcanvas-button\">\n",
            "         <a class=\"toggle-nav open\" href=\"#\" style=\"color:#eee\">\n",
            "          <span aria-hidden=\"true\" class=\"fa fa-navicon\">\n",
            "          </span>\n",
            "          <span class=\"sr-only\">\n",
            "           Offcanvas Sidebar\n",
            "          </span>\n",
            "         </a>\n",
            "        </div>\n",
            "       </div>\n",
            "      </div>\n",
            "     </div>\n",
            "    </div>\n",
            "   </header>\n",
            "   <div id=\"pe-content-part\" style=\"font-family:arial;font-size:small\">\n",
            "    <div class=\"pe-container\" id=\"pe-content-part-in\">\n",
            "     <div class=\"pe-row\">\n",
            "      <div class=\"col-md-12 col-md-push-0\" id=\"pe-content\">\n",
            "       <div class=\"no-print\" style=\"margin:-2% 0 2% 0;border:solid 1px #e0e0e0;padding:1%;background:#fbfbfb\">\n",
            "        <div class=\"no-print\" style=\"font-size:small;font-weight:bold;\">\n",
            "         <a class=\"fa fa-home\" href=\"https://mon.gov.mk\">\n",
            "         </a>\n",
            "         /\n",
            "         <a href=\"category/?id=2\">\n",
            "          Односи со јавност\n",
            "         </a>\n",
            "         /\n",
            "         <span style=\"font-weight:normal\">\n",
            "          Вести и настани\n",
            "         </span>\n",
            "        </div>\n",
            "       </div>\n",
            "      </div>\n",
            "      <div class=\"col-md-9 col-md-push-0\" id=\"pe-content\">\n",
            "       <!-- Begin of main content area -->\n",
            "       <main id=\"pe-maincontent\" role=\"main\" style=\"border-left:solid 0px #e0e0e0;border-right:solid 0px #e0e0e0;padding:0% 2% 0 2%;\" tabindex=\"-1\">\n",
            "        <article class=\"post-34 post type-post status-publish format-standard has-post-thumbnail hentry category-web-accessibility clearfix\">\n",
            "         <h2 class=\"pe-title\" style=\"line-height:120%;\">\n",
            "          Вести и настани\n",
            "         </h2>\n",
            "         <p>\n",
            "         </p>\n",
            "         <!--Content Listing -->\n",
            "         <blockquote>\n",
            "          <a class=\"h5 clearfix\" href=\"/content/?id=7357\">\n",
            "           Разгледани приговори и молби по однос на резултати од конкурс за сместување во студентски домови\n",
            "          </a>\n",
            "          <span class=\"fa fa-calendar\">\n",
            "          </span>\n",
            "          20.10.2023\n",
            "         </blockquote>\n",
            "         <div id=\"empty\">\n",
            "         </div>\n",
            "         <blockquote>\n",
            "          <a class=\"h5 clearfix\" href=\"/content/?id=7358\">\n",
            "           Листа на прифатени и одбиени студенти за сместување во студентски домови од рокот за пријавување 1-15.10.2023\n",
            "          </a>\n",
            "          <span class=\"fa fa-calendar\">\n",
            "          </span>\n",
            "          20.10.2023\n",
            "         </blockquote>\n",
            "         <div id=\"empty\">\n",
            "         </div>\n",
            "         <blockquote>\n",
            "          <a class=\"h5 clearfix\" href=\"/content/?id=7356\">\n",
            "           Инфо ден за програмата COST -  European Cooperation in Science and Technology\n",
            "          </a>\n",
            "          <span class=\"fa fa-calendar\">\n",
            "          </span>\n",
            "          20.10.2023\n",
            "         </blockquote>\n",
            "         <div id=\"empty\">\n",
            "         </div>\n",
            "         <div style=\"background:url('/stored/content/22_7.jpg') center;background-size:auto 120%;width:24%;height:126px;float:left;margin-top:20px\">\n",
            "         </div>\n",
            "         <blockquote>\n",
            "          <a class=\"h5 clearfix\" href=\"/content/?id=7355\">\n",
            "           Шаќири: со САД имаме заеднички образовни проекти, тие се ефективни и ќе продолжат да се имплементираат\n",
            "          </a>\n",
            "          <span class=\"fa fa-calendar\">\n",
            "          </span>\n",
            "          19.10.2023\n",
            "         </blockquote>\n",
            "         <div id=\"empty\">\n",
            "         </div>\n",
            "         <blockquote>\n",
            "          <a class=\"h5 clearfix\" href=\"/content/?id=7354\">\n",
            "           Соопштение за автори на учебници\n",
            "          </a>\n",
            "          <span class=\"fa fa-calendar\">\n",
            "          </span>\n",
            "          19.10.2023\n",
            "         </blockquote>\n",
            "         <div id=\"empty\">\n",
            "         </div>\n",
            "         <div style=\"background:url('/stored/content/1_78.jpg') center;background-size:auto 120%;width:24%;height:126px;float:left;margin-top:20px\">\n",
            "         </div>\n",
            "         <blockquote>\n",
            "          <a class=\"h5 clearfix\" href=\"/content/?id=7353\">\n",
            "           МОН: Одбележуваме 10 години од воспоставувањето на Националната рамка на квалификации како моќна алатка за препознавање и вреднување на знаењата, вештините и способностите од формално и неформално учење\n",
            "          </a>\n",
            "          <span class=\"fa fa-calendar\">\n",
            "          </span>\n",
            "          19.10.2023\n",
            "         </blockquote>\n",
            "         <div id=\"empty\">\n",
            "         </div>\n",
            "         <div style=\"background:url('/stored/content/22_6.jpg') center;background-size:auto 120%;width:24%;height:126px;float:left;margin-top:20px\">\n",
            "         </div>\n",
            "         <blockquote>\n",
            "          <a class=\"h5 clearfix\" href=\"/content/?id=7352\">\n",
            "           Нухиу: концептот на дуално образование да се прошири и на факултетите\n",
            "          </a>\n",
            "          <span class=\"fa fa-calendar\">\n",
            "          </span>\n",
            "          18.10.2023\n",
            "         </blockquote>\n",
            "         <div id=\"empty\">\n",
            "         </div>\n",
            "         <div style=\"background:url('/stored/content/mon logo_1_11.jpg') center;background-size:auto 120%;width:24%;height:126px;float:left;margin-top:20px\">\n",
            "         </div>\n",
            "         <blockquote>\n",
            "          <a class=\"h5 clearfix\" href=\"/content/?id=7350\">\n",
            "           Конкурси за доделување на ученички стипендии за учебната 2023-2024 година\n",
            "          </a>\n",
            "          <span class=\"fa fa-calendar\">\n",
            "          </span>\n",
            "          18.10.2023\n",
            "         </blockquote>\n",
            "         <div id=\"empty\">\n",
            "         </div>\n",
            "         <blockquote>\n",
            "          <a class=\"h5 clearfix\" href=\"/content/?id=7349\">\n",
            "           Конкурс за доделување 50 (педесет) стипендии за талентирани ученици/чки од средното образование од областа на уметностите од јавните и приватните средни училишта во Република Северна Македонија за учебната 2023/2024 година\n",
            "          </a>\n",
            "          <span class=\"fa fa-calendar\">\n",
            "          </span>\n",
            "          18.10.2023\n",
            "         </blockquote>\n",
            "         <div id=\"empty\">\n",
            "         </div>\n",
            "         <blockquote>\n",
            "          <a class=\"h5 clearfix\" href=\"/content/?id=7348\">\n",
            "           Конкурс за доделување 100 (сто) стипендии за талентирани ученици од средното образование (освен за талентирани ученици од средното образование од областа на уметностите) од јавните и приватните средни училишта во Република Северна Македонија за учебната 2023/2024 година\n",
            "          </a>\n",
            "          <span class=\"fa fa-calendar\">\n",
            "          </span>\n",
            "          18.10.2023\n",
            "         </blockquote>\n",
            "         <div id=\"empty\">\n",
            "         </div>\n",
            "         <div id=\"empty\">\n",
            "         </div>\n",
            "         <!--Show Pagging -->\n",
            "         <div class=\"no-print\" style=\"margin:3% 0 0 0;padding:1%;text-align:left;\">\n",
            "          <span style=\"color:gray;font-size:120%;padding:7px 10px 7px 10px;border:solid 1px #aaa;border-radius:5px;background:#e0e0e0\">\n",
            "           1 / 182\n",
            "          </span>\n",
            "          <span style=\"cursor:not-allowed;font-size:120%;padding:7px;border:solid 1px #aaa;border-radius:5px;background:#e0e0e0\">\n",
            "           1\n",
            "          </span>\n",
            "          <a onclick=\"document.location.href='category?id=34&amp;curpage=2';\" style=\"cursor:pointer;font-size:120%;padding:7px;border:solid 1px #aaa;border-radius:5px\">\n",
            "           2\n",
            "          </a>\n",
            "          <a onclick=\"document.location.href='category?id=34&amp;curpage=3';\" style=\"cursor:pointer;font-size:120%;padding:7px;border:solid 1px #aaa;border-radius:5px\">\n",
            "           3\n",
            "          </a>\n",
            "          ..\n",
            "          <a onclick=\"document.location.href='category?id=34&amp;curpage=182';\" style=\"cursor:pointer;font-size:120%;padding:7px;border:solid 1px #aaa;border-radius:5px\">\n",
            "           <span class=\"fa fa-angle-double-right\">\n",
            "           </span>\n",
            "          </a>\n",
            "         </div>\n",
            "         <div id=\"empty\">\n",
            "         </div>\n",
            "         <div class=\"no-print\" style=\"margin:5% 0 0 0;border-top:solid 1px #e0e0e0;border-bottom:solid 1px #e0e0e0;padding:1.5% 1% 1% 1%;background:#fbfbfb\">\n",
            "          <div class=\"addthis_inline_share_toolbox\">\n",
            "          </div>\n",
            "         </div>\n",
            "        </article>\n",
            "        <div id=\"empty\">\n",
            "        </div>\n",
            "       </main>\n",
            "       <!-- End of main content area -->\n",
            "      </div>\n",
            "      <!-- Sidebar -->\n",
            "      <aside aria-label=\"Right-Sidebar\" class=\"col-md-3 col-sm-6 no-print\" id=\"pe-right\" role=\"complementary\">\n",
            "       <div class=\"row\">\n",
            "        <div class=\"pe-widget widget widget_categories\" style=\"border-bottom:solid 1px #e0e0e0\">\n",
            "         <div class=\"pe-widget-in clearfix\">\n",
            "          <span class=\"is-content\" id=\"pe-content-beginning\">\n",
            "          </span>\n",
            "          <h3 class=\"pe-title\">\n",
            "           <span>\n",
            "            Односи со јавност\n",
            "           </span>\n",
            "          </h3>\n",
            "          <ul>\n",
            "           <li>\n",
            "            <!--\r\n",
            "<li class=\"cat-item cat-item-34\"  style=\"border-bottom:dotted 1px;border-top:dotted 1px;\">-->\n",
            "            <blockquote style=\"font-weight:bold;\">\n",
            "             <a href=\"category/?id=34\">\n",
            "              Вести и настани\n",
            "             </a>\n",
            "            </blockquote>\n",
            "            <!--\r\n",
            "<li class=\"cat-item cat-item-35\" >-->\n",
            "            <blockquote>\n",
            "             <a href=\"category/?id=35\">\n",
            "              Најави / Огласи / Известувања\n",
            "             </a>\n",
            "            </blockquote>\n",
            "            <!--\r\n",
            "<li class=\"cat-item cat-item-36\" >-->\n",
            "            <blockquote>\n",
            "             <a href=\"category/?id=36\">\n",
            "              Заштита на личните податоци\n",
            "             </a>\n",
            "            </blockquote>\n",
            "            <!--\r\n",
            "<li class=\"cat-item cat-item-37\" >-->\n",
            "            <blockquote>\n",
            "             <a href=\"category/?id=37\">\n",
            "              Слободен пристап до информации од јавен карактер\n",
            "             </a>\n",
            "            </blockquote>\n",
            "           </li>\n",
            "          </ul>\n",
            "         </div>\n",
            "        </div>\n",
            "       </div>\n",
            "      </aside>\n",
            "      <!-- End Sidebar -->\n",
            "      <aside aria-label=\"Right-Sidebar\" class=\"col-md-3 col-sm-6\" id=\"pe-left\" role=\"complementary\">\n",
            "       <div class=\"row\">\n",
            "        <div class=\"pe-widget widget widget_categories\" id=\"categories-2\">\n",
            "         <ul>\n",
            "          <li>\n",
            "           <a href=\"http://ucebnici.mon.gov.mk/najava\" target=\"_blank\">\n",
            "            <img border=\"0\" src=\"/stored/sidebar/ucebnici-baner_2.jpg\" style=\"border:solid 0px;\" width=\"100%\"/>\n",
            "           </a>\n",
            "          </li>\n",
            "          <li>\n",
            "           <a href=\"http://www.na.org.mk/index.php/mk/\" target=\"_blank\">\n",
            "            <img border=\"0\" src=\"/stored/sidebar/naeo_4.jpg\" style=\"border:solid 0px;\" width=\"100%\"/>\n",
            "           </a>\n",
            "          </li>\n",
            "          <li>\n",
            "           <a href=\"/stored/sidebar/horizont-2020.pdf\" target=\"_blank\">\n",
            "            <img border=\"0\" src=\"/stored/sidebar/horizon_2.jpg\" style=\"border:solid 0px;\" width=\"100%\"/>\n",
            "           </a>\n",
            "          </li>\n",
            "         </ul>\n",
            "        </div>\n",
            "       </div>\n",
            "      </aside>\n",
            "     </div>\n",
            "    </div>\n",
            "   </div>\n",
            "   <div aria-label=\"Footer Widgets\" class=\"no-print\" id=\"pe-footer\" role=\"region\" tabindex=\"-1\">\n",
            "    <div class=\"pe-container\" id=\"pe-footer-in\" style=\"border-bottom:solid 1px rgba(200,200,200,0.3)\">\n",
            "     <div class=\"row\">\n",
            "      <div class=\"pe-widget widget widget_categories\" id=\"categories-2\">\n",
            "       <div class=\"col-md-2\" style=\"margin-bottom:0.5%;padding:0.5%;\">\n",
            "        <a href=\"http://www.e-ucebnici.mon.gov.mk/\" target=\"_blank\">\n",
            "         <img border=\"0\" src=\"/stored/sidebar/eucebnici_1.jpg\" style=\"max-height:120px\" width=\"100%\"/>\n",
            "        </a>\n",
            "       </div>\n",
            "       <div class=\"col-md-2\" style=\"margin-bottom:0.5%;padding:0.5%;\">\n",
            "        <a href=\"http://fondzainovacii.mk/\" target=\"_blank\">\n",
            "         <img border=\"0\" src=\"/stored/sidebar/fond-za-inovacii.jpg\" style=\"max-height:120px\" width=\"100%\"/>\n",
            "        </a>\n",
            "       </div>\n",
            "       <div class=\"col-md-2\" style=\"margin-bottom:0.5%;padding:0.5%;\">\n",
            "        <a href=\"http://www.1000knigi.mon.gov.mk/\" target=\"_blank\">\n",
            "         <img border=\"0\" src=\"/stored/sidebar/100knigi.jpg\" style=\"max-height:120px\" width=\"100%\"/>\n",
            "        </a>\n",
            "       </div>\n",
            "       <div class=\"col-md-2\" style=\"margin-bottom:0.5%;padding:0.5%;\">\n",
            "        <a href=\"http://matura.gov.mk/\" target=\"_blank\">\n",
            "         <img border=\"0\" src=\"/stored/sidebar/drzavna-matura.jpg\" style=\"max-height:120px\" width=\"100%\"/>\n",
            "        </a>\n",
            "       </div>\n",
            "       <div class=\"col-md-2\" style=\"margin-bottom:0.5%;padding:0.5%;\">\n",
            "        <a href=\"http://www.dic.edu.mk/\" target=\"_blank\">\n",
            "         <img border=\"0\" src=\"/stored/sidebar/dic.jpg\" style=\"max-height:120px\" width=\"100%\"/>\n",
            "        </a>\n",
            "       </div>\n",
            "       <div class=\"col-md-2\" style=\"margin-bottom:0.5%;padding:0.5%;\">\n",
            "        <a href=\"http://bro.gov.mk/\" target=\"_blank\">\n",
            "         <img border=\"0\" src=\"/stored/sidebar/bro.jpg\" style=\"max-height:120px\" width=\"100%\"/>\n",
            "        </a>\n",
            "       </div>\n",
            "       <div class=\"col-md-2\" style=\"margin-bottom:0.5%;padding:0.5%;\">\n",
            "        <a href=\"http://www.csoo.edu.mk/\" target=\"_blank\">\n",
            "         <img border=\"0\" src=\"/stored/sidebar/csoo.jpg\" style=\"max-height:120px\" width=\"100%\"/>\n",
            "        </a>\n",
            "       </div>\n",
            "       <div class=\"col-md-2\" style=\"margin-bottom:0.5%;padding:0.5%;\">\n",
            "        <a href=\"https://na.org.mk/\" target=\"_parent\">\n",
            "         <img border=\"0\" src=\"/stored/sidebar/naeo_2_1.jpg\" style=\"max-height:120px\" width=\"100%\"/>\n",
            "        </a>\n",
            "       </div>\n",
            "       <div class=\"col-md-2\" style=\"margin-bottom:0.5%;padding:0.5%;\">\n",
            "        <a href=\"http://ednevnik.edu.mk/\" target=\"_blank\">\n",
            "         <img border=\"0\" src=\"/stored/sidebar/eDnevnik_2.jpg\" style=\"max-height:120px\" width=\"100%\"/>\n",
            "        </a>\n",
            "       </div>\n",
            "       <div class=\"col-md-2\" style=\"margin-bottom:0.5%;padding:0.5%;\">\n",
            "        <a href=\"http://www.nauka.mon.gov.mk/index.php?lang=mk\" target=\"_blank\">\n",
            "         <img border=\"0\" src=\"/stored/sidebar/NaukaMK2.jpg\" style=\"max-height:120px\" width=\"100%\"/>\n",
            "        </a>\n",
            "       </div>\n",
            "       <div class=\"col-md-2\" style=\"margin-bottom:0.5%;padding:0.5%;\">\n",
            "        <a href=\"http://patentmk.mon.gov.mk/\" target=\"_blank\">\n",
            "         <img border=\"0\" src=\"/stored/sidebar/PatentMK2.jpg\" style=\"max-height:120px\" width=\"100%\"/>\n",
            "        </a>\n",
            "       </div>\n",
            "       <div class=\"col-md-2\" style=\"margin-bottom:0.5%;padding:0.5%;\">\n",
            "        <a href=\"http://konkursi.mon.gov.mk/?lang=mk\" target=\"_blank\">\n",
            "         <img border=\"0\" src=\"/stored/sidebar/domovi-web.jpg\" style=\"max-height:120px\" width=\"100%\"/>\n",
            "        </a>\n",
            "       </div>\n",
            "       <div class=\"col-md-2\" style=\"margin-bottom:0.5%;padding:0.5%;\">\n",
            "        <a href=\"http://konkursi.mon.gov.mk/\" target=\"_blank\">\n",
            "         <img border=\"0\" src=\"/stored/sidebar/konkursi-mongovmk.jpg\" style=\"max-height:120px\" width=\"100%\"/>\n",
            "        </a>\n",
            "       </div>\n",
            "       <div class=\"col-md-2\" style=\"margin-bottom:0.5%;padding:0.5%;\">\n",
            "        <a href=\"http://plagijati.mon.gov.mk/\" target=\"_blank\">\n",
            "         <img border=\"0\" src=\"/stored/sidebar/plagijati-mon.jpg\" style=\"max-height:120px\" width=\"100%\"/>\n",
            "        </a>\n",
            "       </div>\n",
            "       <div class=\"col-md-2\" style=\"margin-bottom:0.5%;padding:0.5%;\">\n",
            "        <a href=\"http://skoool.mk/\" target=\"_blank\">\n",
            "         <img border=\"0\" src=\"/stored/sidebar/skoool.jpg\" style=\"max-height:120px\" width=\"100%\"/>\n",
            "        </a>\n",
            "       </div>\n",
            "      </div>\n",
            "     </div>\n",
            "    </div>\n",
            "   </div>\n",
            "   <div aria-label=\"Footer Widgets\" class=\"no-print\" id=\"pe-footer\" role=\"region\" tabindex=\"-1\">\n",
            "    <div class=\"pe-container\" id=\"pe-footer-in\">\n",
            "     <div class=\"row\">\n",
            "      <div class=\"col-md-3 pe-widget widget widget_nav_menu\" id=\"nav_menu-1\">\n",
            "       <div class=\"pe-widget-in clearfix\">\n",
            "        <h3 class=\"pe-title\">\n",
            "         <span>\n",
            "          МИНИСТЕРСТВО\n",
            "         </span>\n",
            "        </h3>\n",
            "        <div class=\"menu-useful-pages-container\">\n",
            "         <ul class=\"menu\" id=\"menu-useful-pages-1\">\n",
            "          <li class=\"menu-item menu-item-type-post_type menu-item-object-page menu-item-4633\">\n",
            "           <a href=\"page/?id=7\" target=\"_parent\">\n",
            "            Министер\n",
            "           </a>\n",
            "          </li>\n",
            "          <li class=\"menu-item menu-item-type-post_type menu-item-object-page menu-item-4633\">\n",
            "           <a href=\"page/?id=8\" target=\"_parent\">\n",
            "            Заменик министер\n",
            "           </a>\n",
            "          </li>\n",
            "          <li class=\"menu-item menu-item-type-post_type menu-item-object-page menu-item-4633\">\n",
            "           <a href=\"/page/?id=9\" target=\"_parent\">\n",
            "            Државен секретар\n",
            "           </a>\n",
            "          </li>\n",
            "          <li class=\"menu-item menu-item-type-post_type menu-item-object-page menu-item-4633\">\n",
            "           <a href=\"/page/?id=10\" target=\"_parent\">\n",
            "            Мисија и визија\n",
            "           </a>\n",
            "          </li>\n",
            "          <li class=\"menu-item menu-item-type-post_type menu-item-object-page menu-item-4633\">\n",
            "           <a href=\"/page/?id=11\" target=\"_parent\">\n",
            "            Политика за квалитет\n",
            "           </a>\n",
            "          </li>\n",
            "          <li class=\"menu-item menu-item-type-post_type menu-item-object-page menu-item-4633\">\n",
            "           <a href=\"/page/?id=2042\" target=\"_parent\">\n",
            "            Организација и систематизација на МОН\n",
            "           </a>\n",
            "          </li>\n",
            "          <li class=\"menu-item menu-item-type-post_type menu-item-object-page menu-item-4633\">\n",
            "           <a href=\"/page/?id=2043\" target=\"_parent\">\n",
            "            Сектори во МОН\n",
            "           </a>\n",
            "          </li>\n",
            "          <li class=\"menu-item menu-item-type-post_type menu-item-object-page menu-item-4633\">\n",
            "           <a href=\"/page/?id=2044\" target=\"_parent\">\n",
            "            Органи во МОН\n",
            "           </a>\n",
            "          </li>\n",
            "         </ul>\n",
            "        </div>\n",
            "       </div>\n",
            "      </div>\n",
            "      <div class=\"col-md-3 pe-widget widget widget_nav_menu\" id=\"nav_menu-2\">\n",
            "       <div class=\"pe-widget-in clearfix\">\n",
            "        <h3 class=\"pe-title\">\n",
            "         <span>\n",
            "          ИНФОРМАЦИИ\n",
            "         </span>\n",
            "        </h3>\n",
            "        <div class=\"menu-useful-pages-container\">\n",
            "         <ul class=\"menu\" id=\"menu-useful-pages-1\">\n",
            "          <li class=\"menu-item menu-item-type-post_type menu-item-object-page menu-item-4633\">\n",
            "           <a href=\"/category/?id=34\" target=\"_parent\">\n",
            "            Вести и настани\n",
            "           </a>\n",
            "          </li>\n",
            "          <li class=\"menu-item menu-item-type-post_type menu-item-object-page menu-item-4633\">\n",
            "           <a href=\"http://monarhiva.mon.gov.mk\" target=\"_blank\">\n",
            "            Архива\n",
            "           </a>\n",
            "          </li>\n",
            "          <li class=\"menu-item menu-item-type-post_type menu-item-object-page menu-item-4633\">\n",
            "           <a href=\"/category/?id=35\" target=\"_parent\">\n",
            "            Најави / Огласи / Известувања\n",
            "           </a>\n",
            "          </li>\n",
            "          <li class=\"menu-item menu-item-type-post_type menu-item-object-page menu-item-4633\">\n",
            "           <a href=\"/category/?id=36\" target=\"_parent\">\n",
            "            Заштита на личните податоци\n",
            "           </a>\n",
            "          </li>\n",
            "          <li class=\"menu-item menu-item-type-post_type menu-item-object-page menu-item-4633\">\n",
            "           <a href=\"/category/?id=37\" target=\"_parent\">\n",
            "            Слободен пристап до информации\n",
            "           </a>\n",
            "          </li>\n",
            "          <li class=\"menu-item menu-item-type-post_type menu-item-object-page menu-item-4633\">\n",
            "           <a href=\"category/?id=3\" target=\"_parent\">\n",
            "            Конкурси\n",
            "           </a>\n",
            "          </li>\n",
            "         </ul>\n",
            "        </div>\n",
            "       </div>\n",
            "      </div>\n",
            "      <div class=\"col-md-3 pe-widget widget widget_nav_menu\" id=\"nav_menu-3\">\n",
            "       <div class=\"pe-widget-in clearfix\">\n",
            "        <h3 class=\"pe-title\">\n",
            "         <span>\n",
            "          ДОКУМЕНТИ\n",
            "         </span>\n",
            "        </h3>\n",
            "        <div class=\"menu-useful-pages-container\">\n",
            "         <ul class=\"menu\" id=\"menu-useful-pages-1\">\n",
            "          <li class=\"menu-item menu-item-type-post_type menu-item-object-page menu-item-4633\">\n",
            "           <a href=\"category/?id=38\" target=\"_parent\">\n",
            "            Формулари и пријави\n",
            "           </a>\n",
            "          </li>\n",
            "          <li class=\"menu-item menu-item-type-post_type menu-item-object-page menu-item-4633\">\n",
            "           <a href=\"page/?id=2045\" target=\"_parent\">\n",
            "            Нострификација\n",
            "           </a>\n",
            "          </li>\n",
            "          <li class=\"menu-item menu-item-type-post_type menu-item-object-page menu-item-4633\">\n",
            "           <a href=\"page/?id=2046\" target=\"_parent\">\n",
            "            Учебници\n",
            "           </a>\n",
            "          </li>\n",
            "          <li class=\"menu-item menu-item-type-post_type menu-item-object-page menu-item-4633\">\n",
            "           <a href=\"page/?id=2047\" target=\"_parent\">\n",
            "            Акредитации\n",
            "           </a>\n",
            "          </li>\n",
            "          <li class=\"menu-item menu-item-type-post_type menu-item-object-page menu-item-4633\">\n",
            "           <a href=\"page/?id=2048\" target=\"_parent\">\n",
            "            Стратешки план\n",
            "           </a>\n",
            "          </li>\n",
            "          <li class=\"menu-item menu-item-type-post_type menu-item-object-page menu-item-4633\">\n",
            "           <a href=\"page/?id=2050\" target=\"_parent\">\n",
            "            Ранг листи\n",
            "           </a>\n",
            "          </li>\n",
            "          <li class=\"menu-item menu-item-type-post_type menu-item-object-page menu-item-4633\">\n",
            "           <a href=\"page/?id=2051\" target=\"_parent\">\n",
            "            Национална рамка\n",
            "           </a>\n",
            "          </li>\n",
            "          <li class=\"menu-item menu-item-type-post_type menu-item-object-page menu-item-4633\">\n",
            "           <a href=\"page/?id=2052\" target=\"_parent\">\n",
            "            Отворено владино партнерство\n",
            "           </a>\n",
            "          </li>\n",
            "          <li class=\"menu-item menu-item-type-post_type menu-item-object-page menu-item-4633\">\n",
            "           <a href=\"page/?id=2053\" target=\"_parent\">\n",
            "            Листа на активни регистри\n",
            "           </a>\n",
            "          </li>\n",
            "         </ul>\n",
            "        </div>\n",
            "       </div>\n",
            "      </div>\n",
            "      <div class=\"col-md-3 pe-widget widget widget_nav_menu\" id=\"nav_menu-4\">\n",
            "       <div class=\"pe-widget-in clearfix\">\n",
            "        <h3 class=\"pe-title\">\n",
            "         <span>\n",
            "          ОСТАНАТИ ДОКУМЕНТИ\n",
            "         </span>\n",
            "        </h3>\n",
            "        <div class=\"menu-useful-pages-container\">\n",
            "         <ul class=\"menu\" id=\"menu-useful-pages-1\">\n",
            "          <li class=\"menu-item menu-item-type-post_type menu-item-object-page menu-item-4633\">\n",
            "           <a href=\"category/?id=2049\" target=\"_parent\">\n",
            "            Останати проекти\n",
            "           </a>\n",
            "          </li>\n",
            "          <li class=\"menu-item menu-item-type-post_type menu-item-object-page menu-item-4633\">\n",
            "           <a href=\"category/?id=2054\" target=\"_parent\">\n",
            "            Финансии\n",
            "           </a>\n",
            "          </li>\n",
            "          <li class=\"menu-item menu-item-type-post_type menu-item-object-page menu-item-4633\">\n",
            "           <a href=\"category/?id=5\" target=\"_parent\">\n",
            "            Прописи\n",
            "           </a>\n",
            "          </li>\n",
            "         </ul>\n",
            "        </div>\n",
            "       </div>\n",
            "      </div>\n",
            "     </div>\n",
            "    </div>\n",
            "   </div>\n",
            "  </div>\n",
            "  <footer aria-label=\"\" class=\"no-print\" id=\"pe-copyrights\" role=\"contentinfo\" style=\"background:rgba(255,255,255,0.3)\" tabindex=\"-1\">\n",
            "   <div class=\"pe-container text-center\" id=\"pe-copyrights-in\">\n",
            "    <p align=\"center\">\n",
            "     <img alt=\"Министерство за образование и наука\" src=\"/stored/site/mon-flogo-mk.jpg\" style=\"max-height:122px;\" title=\"Министерство за образование и наука\"/>\n",
            "    </p>\n",
            "    <p>\n",
            "    </p>\n",
            "    <div id=\"pe-copyrights-info\" style=\"line-height:120%;\">\n",
            "     <p>\n",
            "      Министерство за образование и наука\n",
            "     </p>\n",
            "    </div>\n",
            "    <p style=\"font-size:150%\">\n",
            "     |\n",
            "     <a href=\"https://www.facebook.com/obrazovanieinauka\" target=\"_blank\">\n",
            "      <span class=\"fa fa-facebook\">\n",
            "      </span>\n",
            "     </a>\n",
            "     |\n",
            "    </p>\n",
            "    <p>\n",
            "    </p>\n",
            "   </div>\n",
            "  </footer>\n",
            "  <!-- end of pe-main wrapper -->\n",
            "  <div id=\"pe-back-top\">\n",
            "   <a href=\"#\" id=\"backtotop\" role=\"button\">\n",
            "    <span class=\"fa fa-angle-up\">\n",
            "    </span>\n",
            "    <span class=\"sr-only\">\n",
            "     Back to top\n",
            "    </span>\n",
            "   </a>\n",
            "  </div>\n",
            "  <!--Menu Right -->\n",
            "  <div class=\"off-canvas-right\" id=\"pe-offcanvas\">\n",
            "   <div id=\"pe-offcanvas-toolbar\">\n",
            "    <a class=\"toggle-nav close\" href=\"#\">\n",
            "     <span aria-hidden=\"true\" class=\"x-icon\">\n",
            "     </span>\n",
            "     <span class=\"sr-only\">\n",
            "      Close Offcanvas Sidebar\n",
            "     </span>\n",
            "    </a>\n",
            "    <a href=\"/en\" style=\"margin:0 10px;float:right\">\n",
            "     <img alt=\"\" src=\"theme/img/en-flag.gif\" style=\"border:0;\"/>\n",
            "    </a>\n",
            "    <a href=\"/al\" style=\"margin:0 10px;float:right\">\n",
            "     <img alt=\"\" src=\"theme/img/al-flag.gif\" style=\"border:0;\"/>\n",
            "    </a>\n",
            "    <a href=\"/mk\" style=\"margin:0 10px;float:right\">\n",
            "     <img alt=\"\" src=\"theme/img/mk-flag.gif\" style=\"border:0;\"/>\n",
            "    </a>\n",
            "   </div>\n",
            "   <div class=\"pe-offcanvas\" id=\"pe-offcanvas-content\">\n",
            "    <div class=\"row\">\n",
            "     <div class=\"pe-offcanvas-menu pe-widget\">\n",
            "      <ul class=\"nav-menu\" id=\"menu-main-manu-1\" style=\"text-align:left;\">\n",
            "       <li class=\"menu-item menu-item-type-post_type menu-item-object-page menu-item-1\">\n",
            "        <a href=\"https://mon.gov.mk\" style=\"font-weight:bold;\" target=\"_parent\">\n",
            "         ПОЧЕТНА\n",
            "        </a>\n",
            "       </li>\n",
            "       <li class=\"menu-item menu-item-type-post_type menu-item-object-page menu-item-2\">\n",
            "        <a href=\"/category/?id=1\" style=\"font-weight:bold;\" target=\"_parent\">\n",
            "         МИНИСТЕРСТВО\n",
            "        </a>\n",
            "        <ul class=\"nav-menu\" id=\"menu-main-manu\">\n",
            "         <li class=\"\">\n",
            "          <a href=\"page/?id=7\" style=\"color:#333\" target=\"_parent\">\n",
            "           Министер\n",
            "          </a>\n",
            "         </li>\n",
            "         <li class=\"\">\n",
            "          <a href=\"page/?id=8\" style=\"color:#333\" target=\"_parent\">\n",
            "           Заменик Министер\n",
            "          </a>\n",
            "         </li>\n",
            "         <li class=\"\">\n",
            "          <a href=\"https://mon.gov.mk/page/?id=9\" style=\"color:#333\" target=\"_parent\">\n",
            "           Државен секретар\n",
            "          </a>\n",
            "         </li>\n",
            "         <li class=\"\">\n",
            "          <a href=\"/page/?id=10\" style=\"color:#333\" target=\"_parent\">\n",
            "           Мисија и визија\n",
            "          </a>\n",
            "         </li>\n",
            "         <li class=\"\">\n",
            "          <a href=\"/page/?id=11\" style=\"color:#333\" target=\"_parent\">\n",
            "           Политика за квалитет\n",
            "          </a>\n",
            "         </li>\n",
            "         <li class=\"\">\n",
            "          <a href=\"/page/?id=2042\" style=\"color:#333\" target=\"_parent\">\n",
            "           Организација и систематизација на МОН\n",
            "          </a>\n",
            "         </li>\n",
            "         <li class=\"\">\n",
            "          <a href=\"/page/?id=2043\" style=\"color:#333\" target=\"_parent\">\n",
            "           Сектори во МОН\n",
            "          </a>\n",
            "         </li>\n",
            "         <li class=\"\">\n",
            "          <a href=\"/page/?id=2044\" style=\"color:#333\" target=\"_parent\">\n",
            "           Органи во МОН\n",
            "          </a>\n",
            "         </li>\n",
            "         <li class=\"\">\n",
            "          <a href=\"page/?id=2067\" style=\"color:#333\" target=\"_parent\">\n",
            "           Кодекс за административни службеници\n",
            "          </a>\n",
            "         </li>\n",
            "         <li class=\"\">\n",
            "          <a href=\"category/?id=2074\" style=\"color:#333\" target=\"_parent\">\n",
            "           Заштитено внатрешно пријавување\n",
            "          </a>\n",
            "         </li>\n",
            "         <li class=\"\">\n",
            "          <a href=\"content/?id=3512\" style=\"color:#333\" target=\"_parent\">\n",
            "           Интегритет, судир на интереси и примање подароци\n",
            "          </a>\n",
            "         </li>\n",
            "         <li class=\"\">\n",
            "          <a href=\"content/?id=3943\" style=\"color:#333\" target=\"_parent\">\n",
            "           Службеник за млади\n",
            "          </a>\n",
            "         </li>\n",
            "        </ul>\n",
            "       </li>\n",
            "       <li class=\"menu-item menu-item-type-post_type menu-item-object-page menu-item-3\">\n",
            "        <a href=\"/category/?id=2\" style=\"font-weight:bold;\" target=\"_parent\">\n",
            "         Односи со јавност\n",
            "        </a>\n",
            "        <ul class=\"nav-menu\" id=\"menu-main-manu\">\n",
            "         <li class=\"\">\n",
            "          <a href=\"/category/?id=34\" style=\"color:#333\" target=\"_parent\">\n",
            "           Вести и настани\n",
            "          </a>\n",
            "         </li>\n",
            "         <li class=\"\">\n",
            "          <a href=\"http://monarhiva.mon.gov.mk\" style=\"color:#333\" target=\"_blank\">\n",
            "           Архива\n",
            "          </a>\n",
            "         </li>\n",
            "         <li class=\"\">\n",
            "          <a href=\"/category/?id=35\" style=\"color:#333\" target=\"_parent\">\n",
            "           Најави / Огласи / Известувања\n",
            "          </a>\n",
            "         </li>\n",
            "         <li class=\"\">\n",
            "          <a href=\"/category/?id=36\" style=\"color:#333\" target=\"_parent\">\n",
            "           Заштита на личните податоци\n",
            "          </a>\n",
            "         </li>\n",
            "         <li class=\"\">\n",
            "          <a href=\"/category/?id=37\" style=\"color:#333\" target=\"_parent\">\n",
            "           Слободен пристап до информации\n",
            "          </a>\n",
            "         </li>\n",
            "         <li class=\"\">\n",
            "          <a href=\"content/?id=3195\" style=\"color:#333\" target=\"_parent\">\n",
            "           21 документ информации од јавен карактер и транспарентност и отчетност\n",
            "          </a>\n",
            "         </li>\n",
            "        </ul>\n",
            "       </li>\n",
            "       <li class=\"menu-item menu-item-type-post_type menu-item-object-page menu-item-4\">\n",
            "        <a href=\"category/?id=2078\" style=\"font-weight:bold;\" target=\"_parent\">\n",
            "         КОНКУРСИ И СТИПЕНДИИ\n",
            "        </a>\n",
            "        <ul class=\"nav-menu\" id=\"menu-main-manu\">\n",
            "         <li class=\"\">\n",
            "          <a href=\"category/?id=3\" style=\"color:#333\" target=\"_parent\">\n",
            "           КОНКУРСИ\n",
            "          </a>\n",
            "         </li>\n",
            "         <li class=\"\">\n",
            "          <a href=\"category/?id=2077\" style=\"color:#333\" target=\"_parent\">\n",
            "           СТИПЕНДИИ\n",
            "          </a>\n",
            "         </li>\n",
            "        </ul>\n",
            "       </li>\n",
            "       <li class=\"menu-item menu-item-type-post_type menu-item-object-page menu-item-5\">\n",
            "        <a href=\"http://mon.gov.mk/category/?id=2049\" style=\"font-weight:bold;\" target=\"_parent\">\n",
            "         ПРОЕКТИ\n",
            "        </a>\n",
            "        <ul class=\"nav-menu\" id=\"menu-main-manu\">\n",
            "         <li class=\"\">\n",
            "          <a href=\"category/?id=2072\" style=\"color:#333\" target=\"_parent\">\n",
            "           PEIP\n",
            "          </a>\n",
            "         </li>\n",
            "         <li class=\"\">\n",
            "          <a href=\"https://mon.gov.mk/category/?id=2076\" style=\"color:#333\" target=\"_parent\">\n",
            "           Енергетска ефикасност во студентските домови\n",
            "          </a>\n",
            "         </li>\n",
            "         <li class=\"\">\n",
            "          <a href=\"https://mon.gov.mk/category/?id=2080\" style=\"color:#333\" target=\"_parent\">\n",
            "           Твининг проект: Понатамошна поддршка за имплементирање на НРК\n",
            "          </a>\n",
            "         </li>\n",
            "         <li class=\"\">\n",
            "          <a href=\"category/?id=2062\" style=\"color:#333\" target=\"_parent\">\n",
            "           Интегрирано образование\n",
            "          </a>\n",
            "         </li>\n",
            "         <li class=\"\">\n",
            "          <a href=\"category/?id=2059\" style=\"color:#333\" target=\"_parent\">\n",
            "           Проект за професионален и кариерен развој на наставниците\n",
            "          </a>\n",
            "         </li>\n",
            "         <li class=\"\">\n",
            "          <a href=\"category/?id=2061\" style=\"color:#333\" target=\"_parent\">\n",
            "           Хоризонт 2020\n",
            "          </a>\n",
            "         </li>\n",
            "         <li class=\"\">\n",
            "          <a href=\"category/?id=2058\" style=\"color:#333\" target=\"_parent\">\n",
            "           SDIS\n",
            "          </a>\n",
            "         </li>\n",
            "        </ul>\n",
            "       </li>\n",
            "       <li class=\"menu-item menu-item-type-post_type menu-item-object-page menu-item-6\">\n",
            "        <a href=\"/category/?id=4\" style=\"font-weight:bold;\" target=\"_parent\">\n",
            "         ДОКУМЕНТИ\n",
            "        </a>\n",
            "        <ul class=\"nav-menu\" id=\"menu-main-manu\">\n",
            "         <li class=\"\">\n",
            "          <a href=\"/category/?id=38\" style=\"color:#333\" target=\"_parent\">\n",
            "           Формулари и пријави\n",
            "          </a>\n",
            "         </li>\n",
            "         <li class=\"\">\n",
            "          <a href=\"category/?id=2073\" style=\"color:#333\" target=\"_parent\">\n",
            "           Интегрална евалуација\n",
            "          </a>\n",
            "         </li>\n",
            "         <li class=\"\">\n",
            "          <a href=\"/page/?id=2045\" style=\"color:#333\" target=\"_parent\">\n",
            "           Нострификација\n",
            "          </a>\n",
            "         </li>\n",
            "         <li class=\"\">\n",
            "          <a href=\"/page/?id=2046\" style=\"color:#333\" target=\"_parent\">\n",
            "           Учебници\n",
            "          </a>\n",
            "         </li>\n",
            "         <li class=\"\">\n",
            "          <a href=\"/page/?id=2047\" style=\"color:#333\" target=\"_parent\">\n",
            "           Акредитации\n",
            "          </a>\n",
            "         </li>\n",
            "         <li class=\"\">\n",
            "          <a href=\"/page/?id=2048\" style=\"color:#333\" target=\"_parent\">\n",
            "           Стратешки документи\n",
            "          </a>\n",
            "         </li>\n",
            "         <li class=\"\">\n",
            "          <a href=\"/category/?id=2049\" style=\"color:#333\" target=\"_parent\">\n",
            "           Останати проекти\n",
            "          </a>\n",
            "         </li>\n",
            "         <li class=\"\">\n",
            "          <a href=\"/page/?id=2050\" style=\"color:#333\" target=\"_parent\">\n",
            "           Ранг листи\n",
            "          </a>\n",
            "         </li>\n",
            "         <li class=\"\">\n",
            "          <a href=\"/page/?id=2051\" style=\"color:#333\" target=\"_parent\">\n",
            "           Национална рамка\n",
            "          </a>\n",
            "         </li>\n",
            "         <li class=\"\">\n",
            "          <a href=\"/page/?id=2052\" style=\"color:#333\" target=\"_parent\">\n",
            "           Отворено владино партнерство\n",
            "          </a>\n",
            "         </li>\n",
            "         <li class=\"\">\n",
            "          <a href=\"/page/?id=2053\" style=\"color:#333\" target=\"_parent\">\n",
            "           Листа на активни регистри\n",
            "          </a>\n",
            "         </li>\n",
            "         <li class=\"\">\n",
            "          <a href=\"/category/?id=2054\" style=\"color:#333\" target=\"_parent\">\n",
            "           Финансии / Јавни набавки\n",
            "          </a>\n",
            "         </li>\n",
            "        </ul>\n",
            "       </li>\n",
            "       <li class=\"menu-item menu-item-type-post_type menu-item-object-page menu-item-7\">\n",
            "        <a href=\"/category/?id=5\" style=\"font-weight:bold;\" target=\"_parent\">\n",
            "         ПРОПИСИ\n",
            "        </a>\n",
            "        <ul class=\"nav-menu\" id=\"menu-main-manu\">\n",
            "         <li class=\"\">\n",
            "          <a href=\"/category/?id=2056\" style=\"color:#333\" target=\"_parent\">\n",
            "           Правилници\n",
            "          </a>\n",
            "         </li>\n",
            "         <li class=\"\">\n",
            "          <a href=\"category/?id=2079\" style=\"color:#333\" target=\"_parent\">\n",
            "           Стандарди\n",
            "          </a>\n",
            "         </li>\n",
            "         <li class=\"\">\n",
            "          <a href=\"category/?id=2070\" style=\"color:#333\" target=\"_parent\">\n",
            "           Упатства\n",
            "          </a>\n",
            "         </li>\n",
            "         <li class=\"\">\n",
            "          <a href=\"category/?id=2066\" style=\"color:#333\" target=\"_parent\">\n",
            "           Концепции\n",
            "          </a>\n",
            "         </li>\n",
            "         <li class=\"\">\n",
            "          <a href=\"category/?id=2068\" style=\"color:#333\" target=\"_parent\">\n",
            "           Уредби\n",
            "          </a>\n",
            "         </li>\n",
            "         <li class=\"\">\n",
            "          <a href=\"category/?id=2069\" style=\"color:#333\" target=\"_parent\">\n",
            "           Протоколи\n",
            "          </a>\n",
            "         </li>\n",
            "         <li class=\"\">\n",
            "          <a href=\"/page/?id=2057\" style=\"color:#333\" target=\"_parent\">\n",
            "           Календари\n",
            "          </a>\n",
            "         </li>\n",
            "         <li class=\"\">\n",
            "          <a href=\"/page/?id=2055\" style=\"color:#333\" target=\"_parent\">\n",
            "           Закони\n",
            "          </a>\n",
            "         </li>\n",
            "        </ul>\n",
            "       </li>\n",
            "       <li class=\"menu-item menu-item-type-post_type menu-item-object-page menu-item-8\">\n",
            "        <a href=\"/page/?id=6\" style=\"font-weight:bold;\" target=\"_parent\">\n",
            "         КОНТАКТ\n",
            "        </a>\n",
            "       </li>\n",
            "      </ul>\n",
            "     </div>\n",
            "    </div>\n",
            "   </div>\n",
            "  </div>\n",
            "  <!--End Menu Right -->\n",
            "  <script async=\"\" defer=\"\" src=\"theme/js/scripts.js?ver=5.0.4\" type=\"text/javascript\">\n",
            "  </script>\n",
            "  <script type=\"text/javascript\">\n",
            "   var countVars = {\"disqusShortname\":\"wuhcag\"};\n",
            "  </script>\n",
            "  <script async=\"\" defer=\"\" src=\"theme/js/slick.min.js?ver=1.6.0\" type=\"text/javascript\">\n",
            "  </script>\n",
            "  <script async=\"\" defer=\"\" src=\"theme/js/jquery.validate.min.js?ver=1.15.0\" type=\"text/javascript\">\n",
            "  </script>\n",
            "  <script src=\"theme/js/jquery.magnific-popup.min.js?ver=1.1.0\" type=\"text/javascript\">\n",
            "  </script>\n",
            "  <script async=\"\" defer=\"\" src=\"theme/js/jquery.form.js?ver=3.51\" type=\"text/javascript\">\n",
            "  </script>\n",
            "  <script async=\"\" defer=\"\" src=\"theme/js/js.cookie.js?ver=2.1.0\" type=\"text/javascript\">\n",
            "  </script>\n",
            "  <script type=\"text/javascript\">\n",
            "   var pe_wcag_vars = {\"cookiePath\":\"\\/\"};\n",
            "  </script>\n",
            "  <script async=\"\" defer=\"\" src=\"theme/js/wcag.js?ver=1.00\" type=\"text/javascript\">\n",
            "  </script>\n",
            "  <script async=\"\" defer=\"\" src=\"theme/js/theme.js?ver=1.00\" type=\"text/javascript\">\n",
            "  </script>\n",
            "  <script async=\"\" defer=\"\" src=\"theme/js/wp-embed.min.js?ver=4.9.8\" type=\"text/javascript\">\n",
            "  </script>\n",
            " </body>\n",
            "</html>\n"
          ]
        }
      ]
    },
    {
      "cell_type": "code",
      "source": [
        "news_html = soup.select('.h5')"
      ],
      "metadata": {
        "id": "LE2uVX-iix-I"
      },
      "execution_count": null,
      "outputs": []
    },
    {
      "cell_type": "code",
      "source": [
        "print(news_html[0].text)"
      ],
      "metadata": {
        "colab": {
          "base_uri": "https://localhost:8080/"
        },
        "id": "vsVvSSEPjF4N",
        "outputId": "bfb8ab22-6078-4d23-daf8-367a8531865a"
      },
      "execution_count": null,
      "outputs": [
        {
          "output_type": "stream",
          "name": "stdout",
          "text": [
            "Разгледани приговори и молби по однос на резултати од конкурс за сместување во студентски домови\n"
          ]
        }
      ]
    },
    {
      "cell_type": "code",
      "source": [
        "news=[]\n",
        "for i in news_html:\n",
        "  news.append(i.text)"
      ],
      "metadata": {
        "id": "tntKcLRxjmbJ"
      },
      "execution_count": null,
      "outputs": []
    },
    {
      "cell_type": "code",
      "source": [
        "news"
      ],
      "metadata": {
        "colab": {
          "base_uri": "https://localhost:8080/"
        },
        "id": "igLJF6rHkWy8",
        "outputId": "47aefd52-cde1-40c8-98ed-16ab6e851803"
      },
      "execution_count": null,
      "outputs": [
        {
          "output_type": "execute_result",
          "data": {
            "text/plain": [
              "['Разгледани приговори и молби по однос на резултати од конкурс за сместување во студентски домови',\n",
              " 'Листа на прифатени и одбиени студенти за сместување во студентски домови од рокот за пријавување 1-15.10.2023',\n",
              " 'Инфо ден за програмата COST -  European Cooperation in Science and Technology',\n",
              " 'Шаќири: со САД имаме заеднички образовни проекти, тие се ефективни и ќе продолжат да се имплементираат',\n",
              " 'Соопштение за автори на учебници',\n",
              " 'МОН: Одбележуваме 10 години од воспоставувањето на Националната рамка на квалификации како моќна алатка за препознавање и вреднување на знаењата, вештините и способностите од формално и неформално учење',\n",
              " 'Нухиу: концептот на дуално образование да се прошири и на факултетите',\n",
              " 'Конкурси за доделување на ученички стипендии за учебната 2023-2024 година',\n",
              " 'Конкурс за доделување 50 (педесет) стипендии за талентирани ученици/чки од средното образование од областа на уметностите од јавните и приватните средни училишта во Република Северна Македонија за учебната 2023/2024 година   ',\n",
              " 'Конкурс за доделување 100 (сто) стипендии за талентирани ученици од средното образование (освен за талентирани ученици од средното образование од областа на уметностите) од јавните и приватните средни училишта во Република Северна Македонија за учебната 2023/2024 година']"
            ]
          },
          "metadata": {},
          "execution_count": 72
        }
      ]
    },
    {
      "cell_type": "code",
      "source": [
        "dates_html = soup.select(\".fa fa-calendar\")"
      ],
      "metadata": {
        "id": "6q4Tgt4wkXkM"
      },
      "execution_count": null,
      "outputs": []
    },
    {
      "cell_type": "code",
      "source": [
        "dates_html"
      ],
      "metadata": {
        "colab": {
          "base_uri": "https://localhost:8080/"
        },
        "id": "rQQ1EJnSkee9",
        "outputId": "15098435-5866-46b9-eb80-d3825da18c6a"
      },
      "execution_count": null,
      "outputs": [
        {
          "output_type": "execute_result",
          "data": {
            "text/plain": [
              "[]"
            ]
          },
          "metadata": {},
          "execution_count": 74
        }
      ]
    },
    {
      "cell_type": "code",
      "source": [
        "blockquotes=soup.find_all(\"blockquote\")"
      ],
      "metadata": {
        "id": "BIaZpekWkfC1"
      },
      "execution_count": null,
      "outputs": []
    },
    {
      "cell_type": "code",
      "source": [
        "str(blockquotes[0]).split('</span>')[1].split('\\r\\n</blockquote>')[0]"
      ],
      "metadata": {
        "colab": {
          "base_uri": "https://localhost:8080/",
          "height": 36
        },
        "id": "AupjyiCjkyOF",
        "outputId": "d21c8639-b066-4e11-9493-18c36db57d98"
      },
      "execution_count": null,
      "outputs": [
        {
          "output_type": "execute_result",
          "data": {
            "text/plain": [
              "' 20.10.2023'"
            ],
            "application/vnd.google.colaboratory.intrinsic+json": {
              "type": "string"
            }
          },
          "metadata": {},
          "execution_count": 76
        }
      ]
    },
    {
      "cell_type": "code",
      "source": [
        "dates = []\n",
        "for blockquote in blockquotes:\n",
        "  if len(str(blockquote).split('</span>')) > 1:\n",
        "    dates.append(str(blockquote).split('</span>')[1].split('\\r\\n</blockquote>')[0])"
      ],
      "metadata": {
        "id": "7pSkS2ldlLXg"
      },
      "execution_count": null,
      "outputs": []
    },
    {
      "cell_type": "code",
      "source": [
        "dates\n"
      ],
      "metadata": {
        "colab": {
          "base_uri": "https://localhost:8080/"
        },
        "id": "QnJVkOLGl0MG",
        "outputId": "ecb84720-597a-447a-b617-2ef15506ac25"
      },
      "execution_count": null,
      "outputs": [
        {
          "output_type": "execute_result",
          "data": {
            "text/plain": [
              "[' 20.10.2023',\n",
              " ' 20.10.2023',\n",
              " ' 20.10.2023',\n",
              " ' 19.10.2023',\n",
              " ' 19.10.2023',\n",
              " ' 19.10.2023',\n",
              " ' 18.10.2023',\n",
              " ' 18.10.2023',\n",
              " ' 18.10.2023',\n",
              " ' 18.10.2023']"
            ]
          },
          "metadata": {},
          "execution_count": 78
        }
      ]
    },
    {
      "cell_type": "code",
      "source": [
        "len(news)==len(dates)"
      ],
      "metadata": {
        "colab": {
          "base_uri": "https://localhost:8080/"
        },
        "id": "3Y5chFFcmJTQ",
        "outputId": "f6d78ecd-c38e-4254-c1ca-4d6825be2f41"
      },
      "execution_count": null,
      "outputs": [
        {
          "output_type": "execute_result",
          "data": {
            "text/plain": [
              "True"
            ]
          },
          "metadata": {},
          "execution_count": 79
        }
      ]
    },
    {
      "cell_type": "code",
      "source": [
        "matrix=[]\n",
        "for i,j in zip(news,dates):\n",
        "  matrix.append([i,j])"
      ],
      "metadata": {
        "id": "YZSvpe-ImNHN"
      },
      "execution_count": null,
      "outputs": []
    },
    {
      "cell_type": "code",
      "source": [
        "matrix"
      ],
      "metadata": {
        "colab": {
          "base_uri": "https://localhost:8080/"
        },
        "id": "RFQM7XO4mV8a",
        "outputId": "dd6c736c-c481-46a7-ebf9-6fd7651206d2"
      },
      "execution_count": null,
      "outputs": [
        {
          "output_type": "execute_result",
          "data": {
            "text/plain": [
              "[['Разгледани приговори и молби по однос на резултати од конкурс за сместување во студентски домови',\n",
              "  ' 20.10.2023'],\n",
              " ['Листа на прифатени и одбиени студенти за сместување во студентски домови од рокот за пријавување 1-15.10.2023',\n",
              "  ' 20.10.2023'],\n",
              " ['Инфо ден за програмата COST -  European Cooperation in Science and Technology',\n",
              "  ' 20.10.2023'],\n",
              " ['Шаќири: со САД имаме заеднички образовни проекти, тие се ефективни и ќе продолжат да се имплементираат',\n",
              "  ' 19.10.2023'],\n",
              " ['Соопштение за автори на учебници', ' 19.10.2023'],\n",
              " ['МОН: Одбележуваме 10 години од воспоставувањето на Националната рамка на квалификации како моќна алатка за препознавање и вреднување на знаењата, вештините и способностите од формално и неформално учење',\n",
              "  ' 19.10.2023'],\n",
              " ['Нухиу: концептот на дуално образование да се прошири и на факултетите',\n",
              "  ' 18.10.2023'],\n",
              " ['Конкурси за доделување на ученички стипендии за учебната 2023-2024 година',\n",
              "  ' 18.10.2023'],\n",
              " ['Конкурс за доделување 50 (педесет) стипендии за талентирани ученици/чки од средното образование од областа на уметностите од јавните и приватните средни училишта во Република Северна Македонија за учебната 2023/2024 година   ',\n",
              "  ' 18.10.2023'],\n",
              " ['Конкурс за доделување 100 (сто) стипендии за талентирани ученици од средното образование (освен за талентирани ученици од средното образование од областа на уметностите) од јавните и приватните средни училишта во Република Северна Македонија за учебната 2023/2024 година',\n",
              "  ' 18.10.2023']]"
            ]
          },
          "metadata": {},
          "execution_count": 81
        }
      ]
    },
    {
      "cell_type": "code",
      "source": [
        "df=pd.DataFrame(matrix,columns=[\"News\",\"Date\"])"
      ],
      "metadata": {
        "id": "7mj04mWTmX0_"
      },
      "execution_count": null,
      "outputs": []
    },
    {
      "cell_type": "code",
      "source": [
        "df.to_csv('mon_news.csv',encoding='utf-8')"
      ],
      "metadata": {
        "id": "vkD0vBc9mlWu"
      },
      "execution_count": null,
      "outputs": []
    },
    {
      "cell_type": "code",
      "source": [
        "from bs4 import BeautifulSoup"
      ],
      "metadata": {
        "id": "N3dfXVbqmrd1"
      },
      "execution_count": null,
      "outputs": []
    },
    {
      "cell_type": "code",
      "source": [],
      "metadata": {
        "id": "kcotDfDO8Z0Q"
      },
      "execution_count": null,
      "outputs": []
    }
  ]
}