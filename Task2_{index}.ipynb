{
  "nbformat": 4,
  "nbformat_minor": 0,
  "metadata": {
    "colab": {
      "provenance": [],
      "authorship_tag": "ABX9TyPaHRTbtJ4pz8Wlgro0/S0o",
      "include_colab_link": true
    },
    "kernelspec": {
      "name": "python3",
      "display_name": "Python 3"
    },
    "language_info": {
      "name": "python"
    }
  },
  "cells": [
    {
      "cell_type": "markdown",
      "metadata": {
        "id": "view-in-github",
        "colab_type": "text"
      },
      "source": [
        "<a href=\"https://colab.research.google.com/github/jovanadobreva/I2DS/blob/main/Task2_%7Bindex%7D.ipynb\" target=\"_parent\"><img src=\"https://colab.research.google.com/assets/colab-badge.svg\" alt=\"Open In Colab\"/></a>"
      ]
    },
    {
      "cell_type": "markdown",
      "source": [
        "#Податочно множество\n",
        "Симнете го датасетот од линкот кој ви е поставен на самата задача, потоа истиот поставете го локално за да го вчитате.\n",
        "Во случај на грешка при вчитување на .csv додадете аргумент `encoding='latin-1`\n"
      ],
      "metadata": {
        "id": "32LCP4BStFRP"
      }
    },
    {
      "cell_type": "code",
      "source": [],
      "metadata": {
        "id": "1TODhjc7tXsU"
      },
      "execution_count": null,
      "outputs": []
    },
    {
      "cell_type": "markdown",
      "source": [
        "#Претпроцесирање кое е потребно"
      ],
      "metadata": {
        "id": "iIdXX341whzo"
      }
    },
    {
      "cell_type": "code",
      "source": [],
      "metadata": {
        "id": "AXaZuISBwkll"
      },
      "execution_count": null,
      "outputs": []
    },
    {
      "cell_type": "markdown",
      "source": [
        "#Модел 1: Трансформер модел"
      ],
      "metadata": {
        "id": "B6EK4TdJwk-U"
      }
    },
    {
      "cell_type": "code",
      "source": [],
      "metadata": {
        "id": "o1cOGYI7wpSy"
      },
      "execution_count": null,
      "outputs": []
    },
    {
      "cell_type": "markdown",
      "source": [
        "#Модел 2: Невронска мрежа"
      ],
      "metadata": {
        "id": "evkSEh5bwpsY"
      }
    },
    {
      "cell_type": "code",
      "source": [],
      "metadata": {
        "id": "v6F0PPTdwsMv"
      },
      "execution_count": null,
      "outputs": []
    },
    {
      "cell_type": "markdown",
      "source": [
        "#Eвалуација на двата модели и споредба"
      ],
      "metadata": {
        "id": "wi5Zk4tpwsoH"
      }
    },
    {
      "cell_type": "code",
      "source": [],
      "metadata": {
        "id": "mElXNhf7wvR8"
      },
      "execution_count": null,
      "outputs": []
    }
  ]
}