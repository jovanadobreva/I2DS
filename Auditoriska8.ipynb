{
  "nbformat": 4,
  "nbformat_minor": 0,
  "metadata": {
    "colab": {
      "provenance": [],
      "authorship_tag": "ABX9TyNyL1Bn4Y5gtxJeZJGGOnUw",
      "include_colab_link": true
    },
    "kernelspec": {
      "name": "python3",
      "display_name": "Python 3"
    },
    "language_info": {
      "name": "python"
    }
  },
  "cells": [
    {
      "cell_type": "markdown",
      "metadata": {
        "id": "view-in-github",
        "colab_type": "text"
      },
      "source": [
        "<a href=\"https://colab.research.google.com/github/jovanadobreva/I2DS/blob/main/Auditoriska8.ipynb\" target=\"_parent\"><img src=\"https://colab.research.google.com/assets/colab-badge.svg\" alt=\"Open In Colab\"/></a>"
      ]
    },
    {
      "cell_type": "code",
      "execution_count": null,
      "metadata": {
        "id": "CQhinFkFoVMQ"
      },
      "outputs": [],
      "source": [
        "import pandas as pd"
      ]
    },
    {
      "cell_type": "code",
      "source": [
        "df= pd.read_csv('/content/mushrooms.csv')"
      ],
      "metadata": {
        "id": "OrYj7AP2onS2"
      },
      "execution_count": null,
      "outputs": []
    },
    {
      "cell_type": "code",
      "source": [
        "from sklearn.preprocessing import LabelEncoder\n",
        "\n",
        "enc=LabelEncoder()\n",
        "for column in df.columns:\n",
        "    df[column] = enc.fit_transform(df[column].to_numpy().reshape(-1,1))"
      ],
      "metadata": {
        "colab": {
          "base_uri": "https://localhost:8080/"
        },
        "id": "eRzXoo_uoqMo",
        "outputId": "289c3463-c458-4e54-ccfa-6b133fc4c0cb"
      },
      "execution_count": null,
      "outputs": [
        {
          "output_type": "stream",
          "name": "stderr",
          "text": [
            "/usr/local/lib/python3.10/dist-packages/sklearn/preprocessing/_label.py:116: DataConversionWarning: A column-vector y was passed when a 1d array was expected. Please change the shape of y to (n_samples, ), for example using ravel().\n",
            "  y = column_or_1d(y, warn=True)\n",
            "/usr/local/lib/python3.10/dist-packages/sklearn/preprocessing/_label.py:116: DataConversionWarning: A column-vector y was passed when a 1d array was expected. Please change the shape of y to (n_samples, ), for example using ravel().\n",
            "  y = column_or_1d(y, warn=True)\n",
            "/usr/local/lib/python3.10/dist-packages/sklearn/preprocessing/_label.py:116: DataConversionWarning: A column-vector y was passed when a 1d array was expected. Please change the shape of y to (n_samples, ), for example using ravel().\n",
            "  y = column_or_1d(y, warn=True)\n",
            "/usr/local/lib/python3.10/dist-packages/sklearn/preprocessing/_label.py:116: DataConversionWarning: A column-vector y was passed when a 1d array was expected. Please change the shape of y to (n_samples, ), for example using ravel().\n",
            "  y = column_or_1d(y, warn=True)\n",
            "/usr/local/lib/python3.10/dist-packages/sklearn/preprocessing/_label.py:116: DataConversionWarning: A column-vector y was passed when a 1d array was expected. Please change the shape of y to (n_samples, ), for example using ravel().\n",
            "  y = column_or_1d(y, warn=True)\n",
            "/usr/local/lib/python3.10/dist-packages/sklearn/preprocessing/_label.py:116: DataConversionWarning: A column-vector y was passed when a 1d array was expected. Please change the shape of y to (n_samples, ), for example using ravel().\n",
            "  y = column_or_1d(y, warn=True)\n",
            "/usr/local/lib/python3.10/dist-packages/sklearn/preprocessing/_label.py:116: DataConversionWarning: A column-vector y was passed when a 1d array was expected. Please change the shape of y to (n_samples, ), for example using ravel().\n",
            "  y = column_or_1d(y, warn=True)\n",
            "/usr/local/lib/python3.10/dist-packages/sklearn/preprocessing/_label.py:116: DataConversionWarning: A column-vector y was passed when a 1d array was expected. Please change the shape of y to (n_samples, ), for example using ravel().\n",
            "  y = column_or_1d(y, warn=True)\n",
            "/usr/local/lib/python3.10/dist-packages/sklearn/preprocessing/_label.py:116: DataConversionWarning: A column-vector y was passed when a 1d array was expected. Please change the shape of y to (n_samples, ), for example using ravel().\n",
            "  y = column_or_1d(y, warn=True)\n",
            "/usr/local/lib/python3.10/dist-packages/sklearn/preprocessing/_label.py:116: DataConversionWarning: A column-vector y was passed when a 1d array was expected. Please change the shape of y to (n_samples, ), for example using ravel().\n",
            "  y = column_or_1d(y, warn=True)\n",
            "/usr/local/lib/python3.10/dist-packages/sklearn/preprocessing/_label.py:116: DataConversionWarning: A column-vector y was passed when a 1d array was expected. Please change the shape of y to (n_samples, ), for example using ravel().\n",
            "  y = column_or_1d(y, warn=True)\n",
            "/usr/local/lib/python3.10/dist-packages/sklearn/preprocessing/_label.py:116: DataConversionWarning: A column-vector y was passed when a 1d array was expected. Please change the shape of y to (n_samples, ), for example using ravel().\n",
            "  y = column_or_1d(y, warn=True)\n",
            "/usr/local/lib/python3.10/dist-packages/sklearn/preprocessing/_label.py:116: DataConversionWarning: A column-vector y was passed when a 1d array was expected. Please change the shape of y to (n_samples, ), for example using ravel().\n",
            "  y = column_or_1d(y, warn=True)\n",
            "/usr/local/lib/python3.10/dist-packages/sklearn/preprocessing/_label.py:116: DataConversionWarning: A column-vector y was passed when a 1d array was expected. Please change the shape of y to (n_samples, ), for example using ravel().\n",
            "  y = column_or_1d(y, warn=True)\n",
            "/usr/local/lib/python3.10/dist-packages/sklearn/preprocessing/_label.py:116: DataConversionWarning: A column-vector y was passed when a 1d array was expected. Please change the shape of y to (n_samples, ), for example using ravel().\n",
            "  y = column_or_1d(y, warn=True)\n",
            "/usr/local/lib/python3.10/dist-packages/sklearn/preprocessing/_label.py:116: DataConversionWarning: A column-vector y was passed when a 1d array was expected. Please change the shape of y to (n_samples, ), for example using ravel().\n",
            "  y = column_or_1d(y, warn=True)\n",
            "/usr/local/lib/python3.10/dist-packages/sklearn/preprocessing/_label.py:116: DataConversionWarning: A column-vector y was passed when a 1d array was expected. Please change the shape of y to (n_samples, ), for example using ravel().\n",
            "  y = column_or_1d(y, warn=True)\n",
            "/usr/local/lib/python3.10/dist-packages/sklearn/preprocessing/_label.py:116: DataConversionWarning: A column-vector y was passed when a 1d array was expected. Please change the shape of y to (n_samples, ), for example using ravel().\n",
            "  y = column_or_1d(y, warn=True)\n",
            "/usr/local/lib/python3.10/dist-packages/sklearn/preprocessing/_label.py:116: DataConversionWarning: A column-vector y was passed when a 1d array was expected. Please change the shape of y to (n_samples, ), for example using ravel().\n",
            "  y = column_or_1d(y, warn=True)\n",
            "/usr/local/lib/python3.10/dist-packages/sklearn/preprocessing/_label.py:116: DataConversionWarning: A column-vector y was passed when a 1d array was expected. Please change the shape of y to (n_samples, ), for example using ravel().\n",
            "  y = column_or_1d(y, warn=True)\n",
            "/usr/local/lib/python3.10/dist-packages/sklearn/preprocessing/_label.py:116: DataConversionWarning: A column-vector y was passed when a 1d array was expected. Please change the shape of y to (n_samples, ), for example using ravel().\n",
            "  y = column_or_1d(y, warn=True)\n",
            "/usr/local/lib/python3.10/dist-packages/sklearn/preprocessing/_label.py:116: DataConversionWarning: A column-vector y was passed when a 1d array was expected. Please change the shape of y to (n_samples, ), for example using ravel().\n",
            "  y = column_or_1d(y, warn=True)\n",
            "/usr/local/lib/python3.10/dist-packages/sklearn/preprocessing/_label.py:116: DataConversionWarning: A column-vector y was passed when a 1d array was expected. Please change the shape of y to (n_samples, ), for example using ravel().\n",
            "  y = column_or_1d(y, warn=True)\n"
          ]
        }
      ]
    },
    {
      "cell_type": "code",
      "source": [
        "X= df.iloc[:,1:]\n",
        "Y= df['class']"
      ],
      "metadata": {
        "id": "BKQ7KcYcoxle"
      },
      "execution_count": null,
      "outputs": []
    },
    {
      "cell_type": "code",
      "source": [
        "from sklearn.model_selection import train_test_split\n",
        "\n",
        "X_train,X_test,Y_train,Y_test = train_test_split(X,Y)"
      ],
      "metadata": {
        "id": "Zy-LhnKtoz_L"
      },
      "execution_count": null,
      "outputs": []
    },
    {
      "cell_type": "code",
      "source": [
        "from keras import Sequential\n",
        "\n",
        "model = Sequential()"
      ],
      "metadata": {
        "id": "iXQCGQpOo1Fb"
      },
      "execution_count": null,
      "outputs": []
    },
    {
      "cell_type": "code",
      "source": [
        "len(X_train.to_numpy()[0])"
      ],
      "metadata": {
        "colab": {
          "base_uri": "https://localhost:8080/"
        },
        "id": "ntdXpsKHpZZa",
        "outputId": "0a7bd3fb-fe47-4066-bfbb-ccb91267bf6c"
      },
      "execution_count": null,
      "outputs": [
        {
          "output_type": "execute_result",
          "data": {
            "text/plain": [
              "22"
            ]
          },
          "metadata": {},
          "execution_count": 11
        }
      ]
    },
    {
      "cell_type": "code",
      "source": [
        "X_train.info()"
      ],
      "metadata": {
        "colab": {
          "base_uri": "https://localhost:8080/"
        },
        "id": "GijaFX1mqneY",
        "outputId": "e9e8344f-632c-4bdc-c616-4fefc702758b"
      },
      "execution_count": null,
      "outputs": [
        {
          "output_type": "stream",
          "name": "stdout",
          "text": [
            "<class 'pandas.core.frame.DataFrame'>\n",
            "Int64Index: 6093 entries, 5441 to 446\n",
            "Data columns (total 22 columns):\n",
            " #   Column                    Non-Null Count  Dtype\n",
            "---  ------                    --------------  -----\n",
            " 0   cap-shape                 6093 non-null   int64\n",
            " 1   cap-surface               6093 non-null   int64\n",
            " 2   cap-color                 6093 non-null   int64\n",
            " 3   bruises                   6093 non-null   int64\n",
            " 4   odor                      6093 non-null   int64\n",
            " 5   gill-attachment           6093 non-null   int64\n",
            " 6   gill-spacing              6093 non-null   int64\n",
            " 7   gill-size                 6093 non-null   int64\n",
            " 8   gill-color                6093 non-null   int64\n",
            " 9   stalk-shape               6093 non-null   int64\n",
            " 10  stalk-root                6093 non-null   int64\n",
            " 11  stalk-surface-above-ring  6093 non-null   int64\n",
            " 12  stalk-surface-below-ring  6093 non-null   int64\n",
            " 13  stalk-color-above-ring    6093 non-null   int64\n",
            " 14  stalk-color-below-ring    6093 non-null   int64\n",
            " 15  veil-type                 6093 non-null   int64\n",
            " 16  veil-color                6093 non-null   int64\n",
            " 17  ring-number               6093 non-null   int64\n",
            " 18  ring-type                 6093 non-null   int64\n",
            " 19  spore-print-color         6093 non-null   int64\n",
            " 20  population                6093 non-null   int64\n",
            " 21  habitat                   6093 non-null   int64\n",
            "dtypes: int64(22)\n",
            "memory usage: 1.1 MB\n"
          ]
        }
      ]
    },
    {
      "cell_type": "code",
      "source": [
        "from keras.layers import Dense\n",
        "\n",
        "model = Sequential()\n",
        "#input 1D\n",
        "model.add(Dense(64,input_dim=22,activation='relu'))\n",
        "#hidden\n",
        "model.add(Dense(128,activation='relu'))\n",
        "model.add(Dense(64,activation='relu'))\n",
        "#output\n",
        "model.add(Dense(1,activation='sigmoid'))"
      ],
      "metadata": {
        "id": "dksaw95ho4uW"
      },
      "execution_count": null,
      "outputs": []
    },
    {
      "cell_type": "code",
      "source": [
        "model.compile(loss='binary_crossentropy', optimizer='adam', metrics=['accuracy'])"
      ],
      "metadata": {
        "id": "D4KwdObPqt2t"
      },
      "execution_count": null,
      "outputs": []
    },
    {
      "cell_type": "code",
      "source": [
        "model.fit(X_train,Y_train,epochs=30,batch_size=32,validation_split=0.2)"
      ],
      "metadata": {
        "colab": {
          "base_uri": "https://localhost:8080/"
        },
        "id": "MqaItlWerYCV",
        "outputId": "90e7760b-6cd8-40f3-802e-4e0047701921"
      },
      "execution_count": null,
      "outputs": [
        {
          "output_type": "stream",
          "name": "stdout",
          "text": [
            "Epoch 1/30\n",
            "153/153 [==============================] - 2s 6ms/step - loss: 0.2737 - accuracy: 0.8884 - val_loss: 0.1336 - val_accuracy: 0.9623\n",
            "Epoch 2/30\n",
            "153/153 [==============================] - 0s 3ms/step - loss: 0.0959 - accuracy: 0.9694 - val_loss: 0.0474 - val_accuracy: 0.9934\n",
            "Epoch 3/30\n",
            "153/153 [==============================] - 0s 3ms/step - loss: 0.0448 - accuracy: 0.9875 - val_loss: 0.0259 - val_accuracy: 0.9951\n",
            "Epoch 4/30\n",
            "153/153 [==============================] - 1s 4ms/step - loss: 0.0192 - accuracy: 0.9957 - val_loss: 0.0114 - val_accuracy: 0.9967\n",
            "Epoch 5/30\n",
            "153/153 [==============================] - 1s 4ms/step - loss: 0.0158 - accuracy: 0.9961 - val_loss: 0.0124 - val_accuracy: 0.9975\n",
            "Epoch 6/30\n",
            "153/153 [==============================] - 1s 4ms/step - loss: 0.0196 - accuracy: 0.9928 - val_loss: 0.0162 - val_accuracy: 0.9934\n",
            "Epoch 7/30\n",
            "153/153 [==============================] - 1s 4ms/step - loss: 0.0172 - accuracy: 0.9947 - val_loss: 0.0075 - val_accuracy: 0.9959\n",
            "Epoch 8/30\n",
            "153/153 [==============================] - 1s 4ms/step - loss: 0.0044 - accuracy: 0.9992 - val_loss: 0.0078 - val_accuracy: 0.9959\n",
            "Epoch 9/30\n",
            "153/153 [==============================] - 0s 3ms/step - loss: 0.0034 - accuracy: 0.9992 - val_loss: 0.0028 - val_accuracy: 0.9984\n",
            "Epoch 10/30\n",
            "153/153 [==============================] - 0s 3ms/step - loss: 0.0015 - accuracy: 0.9998 - val_loss: 0.0011 - val_accuracy: 1.0000\n",
            "Epoch 11/30\n",
            "153/153 [==============================] - 0s 3ms/step - loss: 9.8898e-04 - accuracy: 1.0000 - val_loss: 8.9778e-04 - val_accuracy: 1.0000\n",
            "Epoch 12/30\n",
            "153/153 [==============================] - 0s 3ms/step - loss: 0.0014 - accuracy: 0.9996 - val_loss: 2.8843e-04 - val_accuracy: 1.0000\n",
            "Epoch 13/30\n",
            "153/153 [==============================] - 1s 5ms/step - loss: 5.6803e-04 - accuracy: 1.0000 - val_loss: 2.1980e-04 - val_accuracy: 1.0000\n",
            "Epoch 14/30\n",
            "153/153 [==============================] - 1s 5ms/step - loss: 2.8033e-04 - accuracy: 1.0000 - val_loss: 2.0263e-04 - val_accuracy: 1.0000\n",
            "Epoch 15/30\n",
            "153/153 [==============================] - 1s 6ms/step - loss: 2.6233e-04 - accuracy: 1.0000 - val_loss: 2.0944e-04 - val_accuracy: 1.0000\n",
            "Epoch 16/30\n",
            "153/153 [==============================] - 1s 5ms/step - loss: 2.6421e-04 - accuracy: 1.0000 - val_loss: 1.5489e-04 - val_accuracy: 1.0000\n",
            "Epoch 17/30\n",
            "153/153 [==============================] - 1s 5ms/step - loss: 3.9122e-04 - accuracy: 1.0000 - val_loss: 6.2183e-04 - val_accuracy: 1.0000\n",
            "Epoch 18/30\n",
            "153/153 [==============================] - 1s 6ms/step - loss: 0.0165 - accuracy: 0.9951 - val_loss: 0.0089 - val_accuracy: 0.9984\n",
            "Epoch 19/30\n",
            "153/153 [==============================] - 1s 4ms/step - loss: 0.0025 - accuracy: 0.9994 - val_loss: 6.8203e-04 - val_accuracy: 1.0000\n",
            "Epoch 20/30\n",
            "153/153 [==============================] - 1s 3ms/step - loss: 3.6350e-04 - accuracy: 1.0000 - val_loss: 2.0128e-04 - val_accuracy: 1.0000\n",
            "Epoch 21/30\n",
            "153/153 [==============================] - 1s 3ms/step - loss: 1.3643e-04 - accuracy: 1.0000 - val_loss: 1.5618e-04 - val_accuracy: 1.0000\n",
            "Epoch 22/30\n",
            "153/153 [==============================] - 1s 4ms/step - loss: 9.5113e-05 - accuracy: 1.0000 - val_loss: 9.5104e-05 - val_accuracy: 1.0000\n",
            "Epoch 23/30\n",
            "153/153 [==============================] - 1s 4ms/step - loss: 7.1641e-05 - accuracy: 1.0000 - val_loss: 7.4770e-05 - val_accuracy: 1.0000\n",
            "Epoch 24/30\n",
            "153/153 [==============================] - 1s 4ms/step - loss: 5.2253e-05 - accuracy: 1.0000 - val_loss: 6.3442e-05 - val_accuracy: 1.0000\n",
            "Epoch 25/30\n",
            "153/153 [==============================] - 0s 3ms/step - loss: 4.1019e-05 - accuracy: 1.0000 - val_loss: 4.7680e-05 - val_accuracy: 1.0000\n",
            "Epoch 26/30\n",
            "153/153 [==============================] - 0s 3ms/step - loss: 3.1649e-05 - accuracy: 1.0000 - val_loss: 4.2394e-05 - val_accuracy: 1.0000\n",
            "Epoch 27/30\n",
            "153/153 [==============================] - 1s 4ms/step - loss: 2.5681e-05 - accuracy: 1.0000 - val_loss: 3.3475e-05 - val_accuracy: 1.0000\n",
            "Epoch 28/30\n",
            "153/153 [==============================] - 1s 4ms/step - loss: 2.2307e-05 - accuracy: 1.0000 - val_loss: 3.6566e-05 - val_accuracy: 1.0000\n",
            "Epoch 29/30\n",
            "153/153 [==============================] - 1s 3ms/step - loss: 1.7251e-05 - accuracy: 1.0000 - val_loss: 2.4283e-05 - val_accuracy: 1.0000\n",
            "Epoch 30/30\n",
            "153/153 [==============================] - 0s 3ms/step - loss: 1.3681e-05 - accuracy: 1.0000 - val_loss: 2.0971e-05 - val_accuracy: 1.0000\n"
          ]
        },
        {
          "output_type": "execute_result",
          "data": {
            "text/plain": [
              "<keras.src.callbacks.History at 0x7ed9d18baa10>"
            ]
          },
          "metadata": {},
          "execution_count": 97
        }
      ]
    },
    {
      "cell_type": "code",
      "source": [
        "y_pred = model.predict(X_test)"
      ],
      "metadata": {
        "colab": {
          "base_uri": "https://localhost:8080/"
        },
        "id": "yMiGlpsdrg6b",
        "outputId": "f1f01446-3012-403a-80d7-62cb5f0bf779"
      },
      "execution_count": null,
      "outputs": [
        {
          "output_type": "stream",
          "name": "stdout",
          "text": [
            "64/64 [==============================] - 0s 2ms/step\n"
          ]
        }
      ]
    },
    {
      "cell_type": "code",
      "source": [
        "y_pred = y_pred.round()"
      ],
      "metadata": {
        "id": "Gn9jDxius57M"
      },
      "execution_count": null,
      "outputs": []
    },
    {
      "cell_type": "code",
      "source": [
        "y_pred"
      ],
      "metadata": {
        "colab": {
          "base_uri": "https://localhost:8080/"
        },
        "id": "AnJb-quAtWgx",
        "outputId": "5c0e4049-a3d0-41bb-b919-ca9b364a94d3"
      },
      "execution_count": null,
      "outputs": [
        {
          "output_type": "execute_result",
          "data": {
            "text/plain": [
              "array([[0.],\n",
              "       [0.],\n",
              "       [1.],\n",
              "       ...,\n",
              "       [1.],\n",
              "       [1.],\n",
              "       [0.]], dtype=float32)"
            ]
          },
          "metadata": {},
          "execution_count": 100
        }
      ]
    },
    {
      "cell_type": "code",
      "source": [
        "from sklearn.metrics import confusion_matrix,classification_report"
      ],
      "metadata": {
        "id": "aNmTwskFtyRs"
      },
      "execution_count": null,
      "outputs": []
    },
    {
      "cell_type": "code",
      "source": [
        "confusion_matrix(Y_test,y_pred)"
      ],
      "metadata": {
        "colab": {
          "base_uri": "https://localhost:8080/"
        },
        "id": "mHUE8C_4t5Kz",
        "outputId": "cbeade26-018b-4b8d-84b2-40a95c13d03f"
      },
      "execution_count": null,
      "outputs": [
        {
          "output_type": "execute_result",
          "data": {
            "text/plain": [
              "array([[1018,    0],\n",
              "       [   0, 1013]])"
            ]
          },
          "metadata": {},
          "execution_count": 102
        }
      ]
    },
    {
      "cell_type": "code",
      "source": [
        "print(classification_report(Y_test,y_pred))"
      ],
      "metadata": {
        "colab": {
          "base_uri": "https://localhost:8080/"
        },
        "id": "FQJ9-J4Dt7-n",
        "outputId": "4f5100b8-5a87-47a7-ac06-4629935dff5c"
      },
      "execution_count": null,
      "outputs": [
        {
          "output_type": "stream",
          "name": "stdout",
          "text": [
            "              precision    recall  f1-score   support\n",
            "\n",
            "           0       1.00      1.00      1.00      1018\n",
            "           1       1.00      1.00      1.00      1013\n",
            "\n",
            "    accuracy                           1.00      2031\n",
            "   macro avg       1.00      1.00      1.00      2031\n",
            "weighted avg       1.00      1.00      1.00      2031\n",
            "\n"
          ]
        }
      ]
    },
    {
      "cell_type": "code",
      "source": [],
      "metadata": {
        "id": "LZ34xN-ft_aR"
      },
      "execution_count": null,
      "outputs": []
    }
  ]
}